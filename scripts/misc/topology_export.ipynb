{
 "cells": [
  {
   "cell_type": "code",
   "execution_count": 22,
   "id": "2a25e871-c63d-47c7-9443-872d53c00dce",
   "metadata": {},
   "outputs": [],
   "source": [
    "# Import the CARLA Python API library and some utils\n",
    "import carla \n",
    "import math \n",
    "import random \n",
    "import time \n",
    "\n",
    "client = carla.Client('ines-gpu-01.informatik.uni-mannheim.de', 2001)\n",
    "client.load_world(\"Town04\")\n",
    "world = client.get_world()\n",
    "map = world.get_map()\n",
    "topology = map.get_topology()\n",
    "topology = [x[0] for x in topology]\n",
    "topology = sorted(topology, key=lambda w: w.transform.location.z)\n"
   ]
  },
  {
   "cell_type": "code",
   "execution_count": 29,
   "id": "85915bfa",
   "metadata": {},
   "outputs": [],
   "source": [
    "def get_waypoints(waypoint):\n",
    "    waypoints = [waypoint]\n",
    "    nxt = waypoint.next(0.05)\n",
    "    if len(nxt) > 0:\n",
    "        nxt = nxt[0]\n",
    "        while nxt.road_id == waypoint.road_id:\n",
    "            if  nxt.transform.rotation.yaw != waypoints[len(waypoints) - 1].transform.rotation.yaw:\n",
    "                waypoints.append(nxt)\n",
    "            else:\n",
    "                latest = nxt\n",
    "            nxt = nxt.next(0.05)\n",
    "            if len(nxt) > 0:\n",
    "                nxt = nxt[0]\n",
    "            else:\n",
    "                break\n",
    "        if len(waypoints) == 1 and latest:\n",
    "            waypoints.append(latest)\n",
    "    return waypoints"
   ]
  },
  {
   "cell_type": "code",
   "execution_count": 30,
   "id": "9439f030",
   "metadata": {},
   "outputs": [],
   "source": [
    "set_waypoints = []\n",
    "for waypoint in topology:\n",
    "    set_waypoints.append(get_waypoints(waypoint))"
   ]
  },
  {
   "cell_type": "code",
   "execution_count": 31,
   "id": "d324c9cd",
   "metadata": {},
   "outputs": [],
   "source": [
    "from json import JSONEncoder\n",
    "class WaypointEncoder(JSONEncoder):\n",
    "    def default(self, waypoint):\n",
    "        return {\n",
    "            'x': float('%.3f' % (waypoint.transform.location.x)),\n",
    "            'y': float('%.3f' % (waypoint.transform.location.y)),\n",
    "            'rotation': float('%.3f' % (waypoint.transform.rotation.yaw)),\n",
    "            'is_junction': waypoint.is_junction,\n",
    "            'lane_width': waypoint.lane_width,\n",
    "        }"
   ]
  },
  {
   "cell_type": "code",
   "execution_count": 32,
   "id": "08968f77",
   "metadata": {},
   "outputs": [],
   "source": [
    "import json\n",
    "with open(\"output.json\", \"w\") as f:\n",
    "    json.dump(set_waypoints, f, cls=WaypointEncoder)"
   ]
  }
 ],
 "metadata": {
  "kernelspec": {
   "display_name": "Python 3.8.10 64-bit",
   "language": "python",
   "name": "python3"
  },
  "language_info": {
   "codemirror_mode": {
    "name": "ipython",
    "version": 3
   },
   "file_extension": ".py",
   "mimetype": "text/x-python",
   "name": "python",
   "nbconvert_exporter": "python",
   "pygments_lexer": "ipython3",
   "version": "3.8.10"
  },
  "toc-showcode": true,
  "vscode": {
   "interpreter": {
    "hash": "1ddaa009d13c15cd4f8d6494fa1b00f694e8e8814495b775299aedbf8678fc9f"
   }
  }
 },
 "nbformat": 4,
 "nbformat_minor": 5
}
