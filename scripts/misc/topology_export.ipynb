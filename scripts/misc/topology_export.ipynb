{
 "cells": [
  {
   "cell_type": "code",
   "execution_count": 6,
   "id": "2a25e871-c63d-47c7-9443-872d53c00dce",
   "metadata": {},
   "outputs": [],
   "source": [
    "# Import the CARLA Python API library and some utils\n",
    "import carla \n",
    "import math \n",
    "import random \n",
    "import time \n",
    "import json\n",
    "\n",
    "client = carla.Client('ines-gpu-01.informatik.uni-mannheim.de', 2001)\n",
    "client.load_world(\"Town10HD\")\n",
    "world = client.get_world()\n",
    "map = world.get_map()\n",
    "topology = map.get_topology()\n",
    "\n",
    "topology_dict = {}\n",
    "\n",
    "for x in topology:\n",
    "    predkey = \"R\" + str(x[0].road_id) + \"L\" + str(x[0].lane_id)\n",
    "    suckey = \"R\" + str(x[1].road_id) + \"L\" + str(x[1].lane_id)\n",
    "    if not predkey in topology_dict:\n",
    "        topology_dict[predkey] = []\n",
    "    topology_dict[predkey].append(suckey)\n",
    "\n",
    "with open(\"Town10HD_topology.json\", \"w\") as f:\n",
    "    json.dump(topology_dict, f)\n"
   ]
  }
 ],
 "metadata": {
  "kernelspec": {
   "display_name": "Python 3.8.10 64-bit",
   "language": "python",
   "name": "python3"
  },
  "language_info": {
   "codemirror_mode": {
    "name": "ipython",
    "version": 3
   },
   "file_extension": ".py",
   "mimetype": "text/x-python",
   "name": "python",
   "nbconvert_exporter": "python",
   "pygments_lexer": "ipython3",
   "version": "3.8.10"
  },
  "toc-showcode": true,
  "vscode": {
   "interpreter": {
    "hash": "1ddaa009d13c15cd4f8d6494fa1b00f694e8e8814495b775299aedbf8678fc9f"
   }
  }
 },
 "nbformat": 4,
 "nbformat_minor": 5
}
