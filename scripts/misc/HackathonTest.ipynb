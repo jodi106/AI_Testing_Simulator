{
 "cells": [
  {
   "cell_type": "code",
   "execution_count": 1,
   "id": "2a25e871-c63d-47c7-9443-872d53c00dce",
   "metadata": {},
   "outputs": [],
   "source": [
    "# Import the CARLA Python API library and some utils\n",
    "import carla \n",
    "import math \n",
    "import random \n",
    "import time \n"
   ]
  },
  {
   "cell_type": "code",
   "execution_count": 2,
   "id": "aa8c85ee-1a54-4dc0-a79c-709228570d1a",
   "metadata": {},
   "outputs": [],
   "source": [
    "# Connect to the client and get the world object\n",
    "client = carla.Client('localhost', 2000) \n"
   ]
  },
  {
   "cell_type": "code",
   "execution_count": 3,
   "id": "75b31997",
   "metadata": {},
   "outputs": [],
   "source": [
    "world = client.get_world() "
   ]
  },
  {
   "cell_type": "code",
   "execution_count": 36,
   "id": "00f077c1",
   "metadata": {},
   "outputs": [
    {
     "ename": "RuntimeError",
     "evalue": "time-out of 5000ms while waiting for the simulator, make sure the simulator is ready and connected to localhost:2000",
     "output_type": "error",
     "traceback": [
      "\u001b[1;31m---------------------------------------------------------------------------\u001b[0m",
      "\u001b[1;31mRuntimeError\u001b[0m                              Traceback (most recent call last)",
      "Cell \u001b[1;32mIn [36], line 1\u001b[0m\n\u001b[1;32m----> 1\u001b[0m client\u001b[38;5;241m.\u001b[39mload_world(\u001b[38;5;124m\"\u001b[39m\u001b[38;5;124mTown04\u001b[39m\u001b[38;5;124m\"\u001b[39m)\n",
      "\u001b[1;31mRuntimeError\u001b[0m: time-out of 5000ms while waiting for the simulator, make sure the simulator is ready and connected to localhost:2000"
     ]
    }
   ],
   "source": [
    "client.load_world(\"Town04\")"
   ]
  },
  {
   "cell_type": "code",
   "execution_count": 4,
   "id": "a111becf",
   "metadata": {},
   "outputs": [
    {
     "name": "stdout",
     "output_type": "stream",
     "text": [
      "Carla/Maps/Town10HD_Opt\n"
     ]
    }
   ],
   "source": [
    "world = client.get_world()\n",
    "print((world.get_map().name))"
   ]
  },
  {
   "cell_type": "code",
   "execution_count": 15,
   "id": "6b5e27c1",
   "metadata": {},
   "outputs": [],
   "source": [
    "client.set_timeout(15)"
   ]
  },
  {
   "cell_type": "code",
   "execution_count": 13,
   "id": "9c4de8d4",
   "metadata": {},
   "outputs": [
    {
     "data": {
      "text/plain": [
       "'min_x -164.59522247314453\\nmax_x159.97942352294922\\nmin_y:-118.72904205322266\\nmax_y:191.21044921875\\n\\nmargin: 50'"
      ]
     },
     "execution_count": 13,
     "metadata": {},
     "output_type": "execute_result"
    }
   ],
   "source": [
    "spectator = world.get_spectator()\n",
    "#Town10HDOP \n",
    "#spectator.set_location(carla.Location(159.979-50, 191.21-50, 150)) #max_x, max_y\n",
    "#spectator.set_location(carla.Location(-164.595+50, -118.729+50, 150)) #min_x, min_y\n",
    "#spectator.set_location(carla.Location(159.979-50, -118.729+50, 150)) #max_x, min_y\n",
    "#spectator.set_location(carla.Location(-164.595+50, 191.21-50, 150)) #min_x, max_y\n",
    "\n",
    "\n",
    "\n",
    "\n",
    "\n",
    "\"\"\"min_x -164.59522247314453\n",
    "max_x159.97942352294922\n",
    "min_y:-118.72904205322266\n",
    "max_y:191.21044921875\n",
    "\n",
    "margin: 50\"\"\"\n",
    "\n"
   ]
  },
  {
   "cell_type": "code",
   "execution_count": 43,
   "id": "ef316d5f",
   "metadata": {},
   "outputs": [
    {
     "name": "stdout",
     "output_type": "stream",
     "text": [
      "Location(x=-350.191345, y=69.747414, z=147.137070)\n"
     ]
    }
   ],
   "source": [
    "print(spectator.get_location())"
   ]
  },
  {
   "cell_type": "markdown",
   "id": "a34261f5",
   "metadata": {},
   "source": []
  },
  {
   "cell_type": "code",
   "execution_count": 6,
   "id": "bfd5c4f2",
   "metadata": {},
   "outputs": [
    {
     "ename": "RuntimeError",
     "evalue": "This class cannot be instantiated from Python",
     "output_type": "error",
     "traceback": [
      "\u001b[1;31m---------------------------------------------------------------------------\u001b[0m",
      "\u001b[1;31mRuntimeError\u001b[0m                              Traceback (most recent call last)",
      "Cell \u001b[1;32mIn [6], line 1\u001b[0m\n\u001b[1;32m----> 1\u001b[0m actor \u001b[38;5;241m=\u001b[39m carla\u001b[38;5;241m.\u001b[39mActor(\u001b[38;5;124m\"\u001b[39m\u001b[38;5;124mhero\u001b[39m\u001b[38;5;124m\"\u001b[39m)\n",
      "\u001b[1;31mRuntimeError\u001b[0m: This class cannot be instantiated from Python"
     ]
    }
   ],
   "source": [
    "actor = carla.Actor.set_target_velocity()"
   ]
  },
  {
   "cell_type": "code",
   "execution_count": 11,
   "id": "1b37ec3e",
   "metadata": {},
   "outputs": [
    {
     "name": "stdout",
     "output_type": "stream",
     "text": [
      "location: X: 228.34771728515625 Y: -169.23974609375, Z: 0.7529945969581604\n"
     ]
    }
   ],
   "source": [
    "spectator = world.get_spectator() \n",
    "\n",
    "coordinates = spectator.get_location()\n",
    "\n",
    "x = coordinates.x\n",
    "y = coordinates.y\n",
    "z = coordinates.z\n",
    "print(f\"location: X: {x} Y: {y}, Z: {z}\")"
   ]
  },
  {
   "cell_type": "code",
   "execution_count": 10,
   "id": "7e5cb751",
   "metadata": {},
   "outputs": [],
   "source": [
    "    \"rightStartingPositionX\": 284.9071,\n",
    "    \"rightStartingPositionY\": 172.701462,\n",
    "    \"rightStartingPositionZ\": 0.3"
   ]
  },
  {
   "cell_type": "code",
   "execution_count": 47,
   "id": "42a1ddcc-d6df-4bbd-b904-15ed03739766",
   "metadata": {},
   "outputs": [],
   "source": [
    "# Get the blueprint library and the spawn points for the map\n",
    "bp_lib = world.get_blueprint_library() \n",
    "spawn_points = world.get_map().get_spawn_points() "
   ]
  },
  {
   "cell_type": "code",
   "execution_count": 8,
   "id": "decbeae0",
   "metadata": {},
   "outputs": [
    {
     "ename": "RuntimeError",
     "evalue": "time-out of 5000ms while waiting for the simulator, make sure the simulator is ready and connected to localhost:2000",
     "output_type": "error",
     "traceback": [
      "\u001b[1;31m---------------------------------------------------------------------------\u001b[0m",
      "\u001b[1;31mRuntimeError\u001b[0m                              Traceback (most recent call last)",
      "Cell \u001b[1;32mIn [8], line 1\u001b[0m\n\u001b[1;32m----> 1\u001b[0m world \u001b[38;5;241m=\u001b[39m client\u001b[38;5;241m.\u001b[39mload_world(\u001b[38;5;124m'\u001b[39m\u001b[38;5;124mTown04\u001b[39m\u001b[38;5;124m'\u001b[39m)\n",
      "\u001b[1;31mRuntimeError\u001b[0m: time-out of 5000ms while waiting for the simulator, make sure the simulator is ready and connected to localhost:2000"
     ]
    }
   ],
   "source": [
    "world = client.load_world('Town04')\n"
   ]
  },
  {
   "cell_type": "code",
   "execution_count": 14,
   "id": "71e73030-a065-4ac8-9bdb-dba8006d68d7",
   "metadata": {},
   "outputs": [],
   "source": [
    "# Get the blueprint for the vehicle you want\n",
    "vehicle_bp = bp_lib.find('vehicle.lincoln.mkz_2020') \n",
    "# Try spawning the vehicle at a randomly chosen spawn point\n",
    "vehicle = world.try_spawn_actor(vehicle_bp, random.choice(spawn_points))"
   ]
  },
  {
   "cell_type": "code",
   "execution_count": null,
   "id": "c765d8ae-09cb-4790-aeaf-802626753d9e",
   "metadata": {},
   "outputs": [],
   "source": [
    "# Move the spectator behind the vehicle \n",
    "spectator = world.get_spectator() \n",
    "transform = carla.Transform(vehicle.get_transform().transform(carla.Location(x=-4,z=2.5)),vehicle.get_transform().rotation) \n",
    "spectator.set_transform(transform) "
   ]
  },
  {
   "cell_type": "code",
   "execution_count": 24,
   "id": "f072e7c9",
   "metadata": {},
   "outputs": [
    {
     "name": "stdout",
     "output_type": "stream",
     "text": [
      "Rotation(pitch=0.000000, yaw=0.000000, roll=0.000000)\n"
     ]
    }
   ],
   "source": [
    "print(vehicle.get_transform().rotation)"
   ]
  },
  {
   "cell_type": "code",
   "execution_count": 6,
   "id": "f2486979",
   "metadata": {},
   "outputs": [],
   "source": [
    "spectator.set_location(carla.Location(x=0, y=0, z=0.3))"
   ]
  },
  {
   "cell_type": "code",
   "execution_count": 48,
   "id": "e27a72f9-ada0-43a2-8f73-037d974b915a",
   "metadata": {},
   "outputs": [],
   "source": [
    "# Add traffic to the simulation\n",
    "for i in range(30): \n",
    "    vehicle_bp = random.choice(bp_lib.filter('vehicle')) \n",
    "    npc = world.try_spawn_actor(vehicle_bp, random.choice(spawn_points)) \n",
    "\n",
    "    "
   ]
  },
  {
   "cell_type": "code",
   "execution_count": 33,
   "id": "12953526",
   "metadata": {},
   "outputs": [
    {
     "name": "stdout",
     "output_type": "stream",
     "text": [
      "<class 'NoneType'>\n"
     ]
    }
   ],
   "source": [
    "bp_lib = world.get_blueprint_library() \n",
    "\n",
    "ped_bp = random.choice(bp_lib.filter('pedestrian')) \n",
    "npc = world.try_spawn_actor(ped_bp, \n",
    "carla.Transform(carla.Location(x=0, y=0, z=0.3), carla.Rotation(pitch=0, yaw=90, roll=0))) \n",
    "\n",
    "print(type(npc))"
   ]
  },
  {
   "cell_type": "code",
   "execution_count": 49,
   "id": "6fac134a-68c5-42b0-a2a7-f344e6a17d8c",
   "metadata": {},
   "outputs": [
    {
     "ename": "",
     "evalue": "",
     "output_type": "error",
     "traceback": [
      "\u001b[1;31mThe Kernel crashed while executing code in the the current cell or a previous cell. Please review the code in the cell(s) to identify a possible cause of the failure. Click <a href='https://aka.ms/vscodeJupyterKernelCrash'>here</a> for more info. View Jupyter <a href='command:jupyter.viewOutput'>log</a> for further details."
     ]
    }
   ],
   "source": [
    "# Set the all vehicles in motion using the Traffic Manager\n",
    "for v in world.get_actors().filter('*vehicle*'): \n",
    "    v.set_autopilot(True)"
   ]
  },
  {
   "cell_type": "code",
   "execution_count": 8,
   "id": "1637c184",
   "metadata": {},
   "outputs": [
    {
     "ename": "IndexError",
     "evalue": "invalid vector subscript",
     "output_type": "error",
     "traceback": [
      "\u001b[1;31m---------------------------------------------------------------------------\u001b[0m",
      "\u001b[1;31mIndexError\u001b[0m                                Traceback (most recent call last)",
      "Cell \u001b[1;32mIn [8], line 2\u001b[0m\n\u001b[0;32m      1\u001b[0m \u001b[38;5;66;03m# Set the all vehicles in motion using the Traffic Manager\u001b[39;00m\n\u001b[1;32m----> 2\u001b[0m vehicle \u001b[38;5;241m=\u001b[39m world\u001b[38;5;241m.\u001b[39mget_actors()\u001b[38;5;241m.\u001b[39mfilter(\u001b[38;5;124m'\u001b[39m\u001b[38;5;124m*vehicle*\u001b[39m\u001b[38;5;124m'\u001b[39m)[\u001b[38;5;241m0\u001b[39m]\n\u001b[0;32m      3\u001b[0m vehicle\u001b[38;5;241m.\u001b[39mset_autopilot(\u001b[38;5;28;01mTrue\u001b[39;00m)\n",
      "\u001b[1;31mIndexError\u001b[0m: invalid vector subscript"
     ]
    }
   ],
   "source": [
    "# Set the all vehicles in motion using the Traffic Manager\n",
    "vehicle = world.get_actors().filter('*vehicle*')[0]\n",
    "vehicle.set_autopilot(True)"
   ]
  },
  {
   "cell_type": "code",
   "execution_count": null,
   "id": "4d4feafe",
   "metadata": {},
   "outputs": [],
   "source": []
  },
  {
   "cell_type": "code",
   "execution_count": 23,
   "id": "b56ac722",
   "metadata": {},
   "outputs": [],
   "source": [
    "spectator.set_location(carla.Location(x=-9.4, y=-152.8, z=0.3))\n"
   ]
  },
  {
   "cell_type": "code",
   "execution_count": 24,
   "id": "f7df2513-eda0-4d59-b216-aa91b928dc1a",
   "metadata": {},
   "outputs": [],
   "source": [
    "# Spawn an RGB cammera with an offset from the vehicle center\n",
    "camera_bp = bp_lib.find('sensor.camera.rgb') \n",
    "camera_init_trans = carla.Transform(carla.Location(z=2))\n",
    "camera = world.spawn_actor(camera_bp, camera_init_trans, attach_to=vehicle)"
   ]
  },
  {
   "cell_type": "code",
   "execution_count": 39,
   "id": "41bdbd91-865f-4f7f-84bb-0e65a6d8e313",
   "metadata": {},
   "outputs": [],
   "source": [
    "# Start the camera saving data to disk\n",
    "camera.listen(lambda image: image.save_to_disk('out/%06d.png' % image.frame))"
   ]
  },
  {
   "cell_type": "code",
   "execution_count": 40,
   "id": "a5ec2768-00a5-48e8-8499-2a01061cc298",
   "metadata": {},
   "outputs": [],
   "source": [
    "# Stop the camera when we've recorded enough data\n",
    "camera.stop()"
   ]
  }
 ],
 "metadata": {
  "kernelspec": {
   "display_name": "Python 3.8.13 ('Carla')",
   "language": "python",
   "name": "python3"
  },
  "language_info": {
   "codemirror_mode": {
    "name": "ipython",
    "version": 3
   },
   "file_extension": ".py",
   "mimetype": "text/x-python",
   "name": "python",
   "nbconvert_exporter": "python",
   "pygments_lexer": "ipython3",
   "version": "3.8.13"
  },
  "toc-showcode": true,
  "vscode": {
   "interpreter": {
    "hash": "40f8cbd566e507ea41465d6b22e958b2791dd7206803de2bb168b2dd0166ed7d"
   }
  }
 },
 "nbformat": 4,
 "nbformat_minor": 5
}
