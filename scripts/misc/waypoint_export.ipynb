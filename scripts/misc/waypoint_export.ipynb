{
 "cells": [
  {
   "cell_type": "code",
   "execution_count": 32,
   "id": "2a25e871-c63d-47c7-9443-872d53c00dce",
   "metadata": {},
   "outputs": [],
   "source": [
    "# Import the CARLA Python API library and some utils\n",
    "import carla \n",
    "import math \n",
    "import random \n",
    "import time \n",
    "\n",
    "client = carla.Client('ines-gpu-01.informatik.uni-mannheim.de', 2001)\n",
    "client.load_world(\"Town10HD\")\n",
    "world = client.get_world()\n",
    "map = world.get_map()\n",
    "topology = map.get_topology()\n",
    "wpset = set()\n",
    "for x in topology:\n",
    "    wpset.add(x[0])\n",
    "    wpset.add(x[1])\n"
   ]
  },
  {
   "cell_type": "code",
   "execution_count": 33,
   "id": "85915bfa",
   "metadata": {},
   "outputs": [],
   "source": [
    "def get_waypoints(waypoint):\n",
    "    waypoints = [waypoint]\n",
    "    nxt = waypoint.next(1)\n",
    "    if len(nxt) > 0:\n",
    "        nxt = nxt[0]\n",
    "        while nxt.road_id == waypoint.road_id:\n",
    "            waypoints.append(nxt)\n",
    "            nxt = nxt.next(1)\n",
    "            if len(nxt) > 0:\n",
    "                nxt = nxt[0]\n",
    "            else:\n",
    "                break\n",
    "    return waypoints"
   ]
  },
  {
   "cell_type": "code",
   "execution_count": 36,
   "id": "9439f030",
   "metadata": {},
   "outputs": [],
   "source": [
    "waypoints_dict = {}\n",
    "for waypoint in wpset:\n",
    "    key = \"R\" +str(waypoint.road_id) + \"L\" + str(waypoint.lane_id)\n",
    "    if key not in waypoints_dict:\n",
    "        waypoints_dict[key] = get_waypoints(waypoint)"
   ]
  },
  {
   "cell_type": "code",
   "execution_count": 37,
   "id": "d324c9cd",
   "metadata": {},
   "outputs": [],
   "source": [
    "from json import JSONEncoder\n",
    "class WaypointEncoder(JSONEncoder):\n",
    "    def default(self, waypoint):\n",
    "        return {\n",
    "            'x': float('%.3f' % (waypoint.transform.location.x)),\n",
    "            'y': float('%.3f' % (waypoint.transform.location.y)),\n",
    "            'rot': float('%.3f' % (waypoint.transform.rotation.yaw)),\n",
    "        }"
   ]
  },
  {
   "cell_type": "code",
   "execution_count": 38,
   "id": "08968f77",
   "metadata": {},
   "outputs": [],
   "source": [
    "import json\n",
    "with open(\"Town10HD.json\", \"w\") as f:\n",
    "    json.dump(waypoints_dict, f, cls=WaypointEncoder)"
   ]
  }
 ],
 "metadata": {
  "kernelspec": {
   "display_name": "Python 3.8.10 64-bit",
   "language": "python",
   "name": "python3"
  },
  "language_info": {
   "codemirror_mode": {
    "name": "ipython",
    "version": 3
   },
   "file_extension": ".py",
   "mimetype": "text/x-python",
   "name": "python",
   "nbconvert_exporter": "python",
   "pygments_lexer": "ipython3",
   "version": "3.8.10"
  },
  "toc-showcode": true,
  "vscode": {
   "interpreter": {
    "hash": "1ddaa009d13c15cd4f8d6494fa1b00f694e8e8814495b775299aedbf8678fc9f"
   }
  }
 },
 "nbformat": 4,
 "nbformat_minor": 5
}
