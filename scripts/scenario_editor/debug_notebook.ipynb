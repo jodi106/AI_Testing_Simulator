{
 "cells": [
  {
   "cell_type": "code",
   "execution_count": 1,
   "metadata": {},
   "outputs": [],
   "source": [
    "# Import the CARLA Python API library and some utils\n",
    "import carla \n",
    "import math \n",
    "import random \n",
    "import time \n",
    "import pandas as pd"
   ]
  },
  {
   "cell_type": "code",
   "execution_count": 2,
   "metadata": {},
   "outputs": [],
   "source": [
    "def setup_world():\n",
    "    \n",
    "    \n",
    "    client = carla.Client('localhost', 2000) \n",
    "    client.set_timeout(30.0)\n",
    "    world = client.get_world() \n",
    "\n",
    "    #Check if Town 4 is already loaded, if not load it\n",
    "    if world.get_map().name != \"Carla/Maps/Town04\":\n",
    "        #client.set_timeout(15.0) #BC mostly takes longer than default 5 Seconds\n",
    "        client.load_world(\"Town04\")\n",
    "\n",
    "        #Setting Spectator Camera Position to the 4-Way Intersection\n",
    "        spectator = world.get_spectator()\n",
    "        spectator.set_location(carla.Location(x = 255, y=-173, z=40))\n",
    "\n",
    "    return client\n",
    "\n",
    "\n",
    "def spawn_entities(client, transform_list, entity_type):\n",
    "    world = client.get_world()\n",
    "    bp_lib = world.get_blueprint_library() \n",
    "  \n",
    "    entity_list = []\n",
    "    for transform in transform_list:\n",
    "        if entity_type == \"C\":\n",
    "            entity_bp = random.choice(bp_lib.filter('vehicle'))\n",
    "        elif entity_type == \"P\":\n",
    "            entity_bp = random.choice(bp_lib.filter('pedestrian'))\n",
    "        entity =  world.try_spawn_actor(entity_bp, transform)\n",
    "        entity_list.append(entity) \n",
    "\n",
    "    return entity_list\n",
    "\n",
    "def transform_coordinates(df):\n",
    "    cars = df[df[\"EntityType\"]==\"C\"][[\"xCoord\",\"yCoord\",\"zCoord\", \"rotationDeg\"]]\n",
    "    passenger = df[df[\"EntityType\"]==\"P\"][[\"xCoord\",\"yCoord\",\"zCoord\",\"rotationDeg\"]]\n",
    "\n",
    "    coord_cars, coord_pass = [],[]\n",
    "\n",
    "    for x in range(len(cars)):\n",
    "        coord_cars.append(list(cars.iloc[x]))\n",
    "\n",
    "    for x in range(len(passenger)):\n",
    "        coord_pass.append(list(passenger.iloc[x]))\n",
    "\n",
    "\n",
    "    transform_cars = []\n",
    "    \n",
    "    for element in  coord_cars:\n",
    "\n",
    "        Location = carla.Location(x = element[0], y = element[1], z = element[2])\n",
    "        Rotation = carla.Rotation(0, element[3], 0)\n",
    "        transform = carla.Transform(Location, Rotation)\n",
    "\n",
    "        transform_cars.append(transform)\n",
    "\n",
    "\n",
    "    transform_pass = []\n",
    "    \n",
    "    for element in  coord_pass:\n",
    "\n",
    "        Location = carla.Location(x = element[0], y = element[1], z = element[2])\n",
    "        Rotation = carla.Rotation(0, element[3], 0)\n",
    "        transform = carla.Transform(Location, Rotation)\n",
    "\n",
    "        transform_pass.append(transform)\n",
    "\n",
    "    return transform_cars, transform_pass\n",
    "\n",
    "def scale_coords(df):\n",
    "    carla_urx, carla_ury = 256.63, -170.97\n",
    "    carla_difx, carla_dify = 28.28, 28.28\n",
    "    \n",
    "    df[[\"xCoord\", \"yCoord\"]] = df[[\"xCoord\", \"yCoord\"]] / 400\n",
    "\n",
    "    df[\"xCoord\"] = df[\"xCoord\"] * carla_difx + carla_urx\n",
    "    df[\"yCoord\"] = df[\"yCoord\"] * carla_dify + carla_ury\n",
    "\n",
    "    return df\n",
    "\n",
    "def read_gui_input(path):\n",
    "    df = pd.read_csv(path)   \n",
    "\n",
    "    return df\n",
    "\n",
    "def control_cars(vehicles):\n",
    "    for car in vehicles[1:]:\n",
    "        car.apply_control(carla.VehicleControl(throttle = 0.5))\n",
    "\n",
    "    start_autopilot(vehicles[0])\n",
    "\n",
    "def control_dummy_passenger(passengers):\n",
    "    for passenger in passengers:\n",
    "        passenger.apply_control(carla.WalkerControl(speed = 0.55))\n",
    "\n",
    "def start_autopilot(vehicle):\n",
    "    vehicle.set_autopilot(True)\n",
    "\n"
   ]
  },
  {
   "cell_type": "code",
   "execution_count": 3,
   "metadata": {},
   "outputs": [
    {
     "ename": "RuntimeError",
     "evalue": "time-out of 30000ms while waiting for the simulator, make sure the simulator is ready and connected to localhost:2000",
     "output_type": "error",
     "traceback": [
      "\u001b[1;31m---------------------------------------------------------------------------\u001b[0m",
      "\u001b[1;31mRuntimeError\u001b[0m                              Traceback (most recent call last)",
      "Cell \u001b[1;32mIn [3], line 1\u001b[0m\n\u001b[1;32m----> 1\u001b[0m client \u001b[38;5;241m=\u001b[39m setup_world()\n",
      "Cell \u001b[1;32mIn [2], line 6\u001b[0m, in \u001b[0;36msetup_world\u001b[1;34m()\u001b[0m\n\u001b[0;32m      4\u001b[0m client \u001b[38;5;241m=\u001b[39m carla\u001b[38;5;241m.\u001b[39mClient(\u001b[38;5;124m'\u001b[39m\u001b[38;5;124mlocalhost\u001b[39m\u001b[38;5;124m'\u001b[39m, \u001b[38;5;241m2000\u001b[39m) \n\u001b[0;32m      5\u001b[0m client\u001b[38;5;241m.\u001b[39mset_timeout(\u001b[38;5;241m30.0\u001b[39m)\n\u001b[1;32m----> 6\u001b[0m world \u001b[38;5;241m=\u001b[39m \u001b[43mclient\u001b[49m\u001b[38;5;241;43m.\u001b[39;49m\u001b[43mget_world\u001b[49m\u001b[43m(\u001b[49m\u001b[43m)\u001b[49m \n\u001b[0;32m      8\u001b[0m \u001b[38;5;66;03m#Check if Town 4 is already loaded, if not load it\u001b[39;00m\n\u001b[0;32m      9\u001b[0m \u001b[38;5;28;01mif\u001b[39;00m world\u001b[38;5;241m.\u001b[39mget_map()\u001b[38;5;241m.\u001b[39mname \u001b[38;5;241m!=\u001b[39m \u001b[38;5;124m\"\u001b[39m\u001b[38;5;124mCarla/Maps/Town04\u001b[39m\u001b[38;5;124m\"\u001b[39m:\n\u001b[0;32m     10\u001b[0m     \u001b[38;5;66;03m#client.set_timeout(15.0) #BC mostly takes longer than default 5 Seconds\u001b[39;00m\n",
      "\u001b[1;31mRuntimeError\u001b[0m: time-out of 30000ms while waiting for the simulator, make sure the simulator is ready and connected to localhost:2000"
     ]
    }
   ],
   "source": [
    "client = setup_world()"
   ]
  },
  {
   "cell_type": "code",
   "execution_count": 14,
   "metadata": {},
   "outputs": [
    {
     "data": {
      "text/html": [
       "<div>\n",
       "<style scoped>\n",
       "    .dataframe tbody tr th:only-of-type {\n",
       "        vertical-align: middle;\n",
       "    }\n",
       "\n",
       "    .dataframe tbody tr th {\n",
       "        vertical-align: top;\n",
       "    }\n",
       "\n",
       "    .dataframe thead th {\n",
       "        text-align: right;\n",
       "    }\n",
       "</style>\n",
       "<table border=\"1\" class=\"dataframe\">\n",
       "  <thead>\n",
       "    <tr style=\"text-align: right;\">\n",
       "      <th></th>\n",
       "      <th>EntityType</th>\n",
       "      <th>xCoord</th>\n",
       "      <th>yCoord</th>\n",
       "      <th>zCoord</th>\n",
       "      <th>rotationDeg</th>\n",
       "    </tr>\n",
       "  </thead>\n",
       "  <tbody>\n",
       "    <tr>\n",
       "      <th>0</th>\n",
       "      <td>C</td>\n",
       "      <td>-13</td>\n",
       "      <td>357</td>\n",
       "      <td>0.3</td>\n",
       "      <td>270</td>\n",
       "    </tr>\n",
       "    <tr>\n",
       "      <th>1</th>\n",
       "      <td>C</td>\n",
       "      <td>363</td>\n",
       "      <td>16</td>\n",
       "      <td>0.3</td>\n",
       "      <td>180</td>\n",
       "    </tr>\n",
       "    <tr>\n",
       "      <th>2</th>\n",
       "      <td>C</td>\n",
       "      <td>26</td>\n",
       "      <td>-217</td>\n",
       "      <td>0.3</td>\n",
       "      <td>90</td>\n",
       "    </tr>\n",
       "    <tr>\n",
       "      <th>3</th>\n",
       "      <td>C</td>\n",
       "      <td>-98</td>\n",
       "      <td>-24</td>\n",
       "      <td>0.3</td>\n",
       "      <td>0</td>\n",
       "    </tr>\n",
       "    <tr>\n",
       "      <th>4</th>\n",
       "      <td>P</td>\n",
       "      <td>29</td>\n",
       "      <td>-92</td>\n",
       "      <td>0.3</td>\n",
       "      <td>270</td>\n",
       "    </tr>\n",
       "    <tr>\n",
       "      <th>5</th>\n",
       "      <td>P</td>\n",
       "      <td>-56</td>\n",
       "      <td>-99</td>\n",
       "      <td>0.3</td>\n",
       "      <td>0</td>\n",
       "    </tr>\n",
       "    <tr>\n",
       "      <th>6</th>\n",
       "      <td>P</td>\n",
       "      <td>-77</td>\n",
       "      <td>78</td>\n",
       "      <td>0.3</td>\n",
       "      <td>0</td>\n",
       "    </tr>\n",
       "  </tbody>\n",
       "</table>\n",
       "</div>"
      ],
      "text/plain": [
       "  EntityType  xCoord  yCoord  zCoord  rotationDeg\n",
       "0          C     -13     357     0.3          270\n",
       "1          C     363      16     0.3          180\n",
       "2          C      26    -217     0.3           90\n",
       "3          C     -98     -24     0.3            0\n",
       "4          P      29     -92     0.3          270\n",
       "5          P     -56     -99     0.3            0\n",
       "6          P     -77      78     0.3            0"
      ]
     },
     "execution_count": 14,
     "metadata": {},
     "output_type": "execute_result"
    }
   ],
   "source": [
    "df = read_gui_input(\"data\\\\AllEntitiesSet.txt\")\n",
    "df"
   ]
  },
  {
   "cell_type": "code",
   "execution_count": 15,
   "metadata": {},
   "outputs": [
    {
     "data": {
      "text/html": [
       "<div>\n",
       "<style scoped>\n",
       "    .dataframe tbody tr th:only-of-type {\n",
       "        vertical-align: middle;\n",
       "    }\n",
       "\n",
       "    .dataframe tbody tr th {\n",
       "        vertical-align: top;\n",
       "    }\n",
       "\n",
       "    .dataframe thead th {\n",
       "        text-align: right;\n",
       "    }\n",
       "</style>\n",
       "<table border=\"1\" class=\"dataframe\">\n",
       "  <thead>\n",
       "    <tr style=\"text-align: right;\">\n",
       "      <th></th>\n",
       "      <th>EntityType</th>\n",
       "      <th>xCoord</th>\n",
       "      <th>yCoord</th>\n",
       "      <th>zCoord</th>\n",
       "      <th>rotationDeg</th>\n",
       "    </tr>\n",
       "  </thead>\n",
       "  <tbody>\n",
       "    <tr>\n",
       "      <th>0</th>\n",
       "      <td>C</td>\n",
       "      <td>255.7109</td>\n",
       "      <td>-145.7301</td>\n",
       "      <td>0.3</td>\n",
       "      <td>270</td>\n",
       "    </tr>\n",
       "    <tr>\n",
       "      <th>1</th>\n",
       "      <td>C</td>\n",
       "      <td>282.2941</td>\n",
       "      <td>-169.8388</td>\n",
       "      <td>0.3</td>\n",
       "      <td>180</td>\n",
       "    </tr>\n",
       "    <tr>\n",
       "      <th>2</th>\n",
       "      <td>C</td>\n",
       "      <td>258.4682</td>\n",
       "      <td>-186.3119</td>\n",
       "      <td>0.3</td>\n",
       "      <td>90</td>\n",
       "    </tr>\n",
       "    <tr>\n",
       "      <th>3</th>\n",
       "      <td>C</td>\n",
       "      <td>249.7014</td>\n",
       "      <td>-172.6668</td>\n",
       "      <td>0.3</td>\n",
       "      <td>0</td>\n",
       "    </tr>\n",
       "    <tr>\n",
       "      <th>4</th>\n",
       "      <td>P</td>\n",
       "      <td>258.6803</td>\n",
       "      <td>-177.4744</td>\n",
       "      <td>0.3</td>\n",
       "      <td>270</td>\n",
       "    </tr>\n",
       "    <tr>\n",
       "      <th>5</th>\n",
       "      <td>P</td>\n",
       "      <td>252.6708</td>\n",
       "      <td>-177.9693</td>\n",
       "      <td>0.3</td>\n",
       "      <td>0</td>\n",
       "    </tr>\n",
       "    <tr>\n",
       "      <th>6</th>\n",
       "      <td>P</td>\n",
       "      <td>251.1861</td>\n",
       "      <td>-165.4554</td>\n",
       "      <td>0.3</td>\n",
       "      <td>0</td>\n",
       "    </tr>\n",
       "  </tbody>\n",
       "</table>\n",
       "</div>"
      ],
      "text/plain": [
       "  EntityType    xCoord    yCoord  zCoord  rotationDeg\n",
       "0          C  255.7109 -145.7301     0.3          270\n",
       "1          C  282.2941 -169.8388     0.3          180\n",
       "2          C  258.4682 -186.3119     0.3           90\n",
       "3          C  249.7014 -172.6668     0.3            0\n",
       "4          P  258.6803 -177.4744     0.3          270\n",
       "5          P  252.6708 -177.9693     0.3            0\n",
       "6          P  251.1861 -165.4554     0.3            0"
      ]
     },
     "execution_count": 15,
     "metadata": {},
     "output_type": "execute_result"
    }
   ],
   "source": [
    "df = scale_coords(df)\n",
    "df"
   ]
  },
  {
   "cell_type": "code",
   "execution_count": 16,
   "metadata": {},
   "outputs": [
    {
     "name": "stdout",
     "output_type": "stream",
     "text": [
      "Transform(Location(x=255.710907, y=-145.730103, z=0.300000), Rotation(pitch=0.000000, yaw=270.000000, roll=0.000000))\n"
     ]
    }
   ],
   "source": [
    "vehicle_list, passenger_list = transform_coordinates(df)\n",
    "print(vehicle_list[0])"
   ]
  },
  {
   "cell_type": "code",
   "execution_count": 17,
   "metadata": {},
   "outputs": [
    {
     "data": {
      "text/plain": [
       "[<carla.libcarla.Vehicle at 0x211733947b0>,\n",
       " <carla.libcarla.Vehicle at 0x211733b49e0>,\n",
       " <carla.libcarla.Vehicle at 0x211733b4a50>,\n",
       " <carla.libcarla.Vehicle at 0x211733b4890>]"
      ]
     },
     "execution_count": 17,
     "metadata": {},
     "output_type": "execute_result"
    }
   ],
   "source": [
    "vehicles = spawn_entities(client, vehicle_list, \"C\")\n",
    "vehicles"
   ]
  },
  {
   "cell_type": "code",
   "execution_count": 18,
   "metadata": {},
   "outputs": [
    {
     "data": {
      "text/plain": [
       "[<carla.libcarla.Walker at 0x211733b4430>,\n",
       " <carla.libcarla.Walker at 0x211733b43c0>,\n",
       " None]"
      ]
     },
     "execution_count": 18,
     "metadata": {},
     "output_type": "execute_result"
    }
   ],
   "source": [
    "passen = spawn_entities(client, passenger_list, \"P\")\n",
    "passen"
   ]
  },
  {
   "cell_type": "code",
   "execution_count": 19,
   "metadata": {},
   "outputs": [
    {
     "ename": "AttributeError",
     "evalue": "'NoneType' object has no attribute 'apply_control'",
     "output_type": "error",
     "traceback": [
      "\u001b[1;31m---------------------------------------------------------------------------\u001b[0m",
      "\u001b[1;31mAttributeError\u001b[0m                            Traceback (most recent call last)",
      "Cell \u001b[1;32mIn [19], line 2\u001b[0m\n\u001b[0;32m      1\u001b[0m control_cars(vehicles)\n\u001b[1;32m----> 2\u001b[0m control_dummy_passenger(passen)\n",
      "Cell \u001b[1;32mIn [2], line 95\u001b[0m, in \u001b[0;36mcontrol_dummy_passenger\u001b[1;34m(passengers)\u001b[0m\n\u001b[0;32m     93\u001b[0m \u001b[38;5;28;01mdef\u001b[39;00m \u001b[38;5;21mcontrol_dummy_passenger\u001b[39m(passengers):\n\u001b[0;32m     94\u001b[0m     \u001b[38;5;28;01mfor\u001b[39;00m passenger \u001b[38;5;129;01min\u001b[39;00m passengers:\n\u001b[1;32m---> 95\u001b[0m         \u001b[43mpassenger\u001b[49m\u001b[38;5;241;43m.\u001b[39;49m\u001b[43mapply_control\u001b[49m(carla\u001b[38;5;241m.\u001b[39mWalkerControl(speed \u001b[38;5;241m=\u001b[39m \u001b[38;5;241m0.55\u001b[39m))\n",
      "\u001b[1;31mAttributeError\u001b[0m: 'NoneType' object has no attribute 'apply_control'"
     ]
    },
    {
     "ename": "",
     "evalue": "",
     "output_type": "error",
     "traceback": [
      "\u001b[1;31mThe Kernel crashed while executing code in the the current cell or a previous cell. Please review the code in the cell(s) to identify a possible cause of the failure. Click <a href='https://aka.ms/vscodeJupyterKernelCrash'>here</a> for more info. View Jupyter <a href='command:jupyter.viewOutput'>log</a> for further details."
     ]
    }
   ],
   "source": [
    "control_cars(vehicles)\n",
    "control_dummy_passenger(passen)"
   ]
  },
  {
   "cell_type": "code",
   "execution_count": null,
   "metadata": {},
   "outputs": [],
   "source": []
  }
 ],
 "metadata": {
  "kernelspec": {
   "display_name": "Python 3.8.13 ('Carla')",
   "language": "python",
   "name": "python3"
  },
  "language_info": {
   "codemirror_mode": {
    "name": "ipython",
    "version": 3
   },
   "file_extension": ".py",
   "mimetype": "text/x-python",
   "name": "python",
   "nbconvert_exporter": "python",
   "pygments_lexer": "ipython3",
   "version": "3.8.13"
  },
  "orig_nbformat": 4,
  "vscode": {
   "interpreter": {
    "hash": "40f8cbd566e507ea41465d6b22e958b2791dd7206803de2bb168b2dd0166ed7d"
   }
  }
 },
 "nbformat": 4,
 "nbformat_minor": 2
}
