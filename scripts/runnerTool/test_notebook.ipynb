{
 "cells": [
  {
   "cell_type": "code",
   "execution_count": 1,
   "metadata": {},
   "outputs": [
    {
     "name": "stdout",
     "output_type": "stream",
     "text": [
      "INFO: Carla is already running, starting scenario..\n"
     ]
    }
   ],
   "source": [
    "import subprocess\n",
    "import carla \n",
    "import time\n",
    "import os\n",
    "import sys\n",
    "import py_trees\n",
    "\n",
    "\n",
    "PATH_TO_CARLA_ROOT = \"C:/CARLA/WindowsNoEditor\"\n",
    "PATH_TO_SCENARIO_RUNNER_ROOT = \"C:/Users/jonas/OneDrive - bwedu/Studium_Master/2_HWS_2022-23/AI Testing Simulator/code/AI_Testing_Simulator/scripts/runnerTool\"\n",
    "PATH_TO_XOSC_FILES = \"C:/Users/jonas/OneDrive - bwedu/Studium_Master/2_HWS_2022-23/AI Testing Simulator/code/AI_Testing_Simulator/scripts/runnerTool/scenarios\"\n",
    "CARLA_VERSION = \"0.9.13\"\n",
    "\n",
    "os.environ[\"CARLA_ROOT\"] = 'C:/CARLA/WindowsNoEditor'\n",
    "os.environ[\"SCENARIO_RUNNER_ROOT\"] = \"C:/Users/jonas/OneDrive - bwedu/Studium_Master/2_HWS_2022-23/AI Testing Simulator/code/AI_Testing_Simulator/scripts/runnerTool\"\n",
    "sys.path.append(os.getenv(\"CARLA_ROOT\")+\"/PythonAPI/carla/dist/carla-0.9.13.egg\")\n",
    "sys.path.append(os.getenv(\"CARLA_ROOT\")+\"/PythonAPI/carla/agents\")\n",
    "sys.path.append(os.getenv(\"CARLA_ROOT\")+\"/PythonAPI/carla\")\n",
    "\n",
    "import scenario_runner\n",
    "from argparse import Namespace\n",
    "\n",
    "try:\n",
    "    \n",
    "    client = carla.Client('localhost', 2000) \n",
    "    world = client.get_world()\n",
    "    print(\"INFO: Carla is already running, starting scenario..\")\n",
    "except Exception:\n",
    "    print(\"INFO: Carla not Running, Starting exe..\")\n",
    "    carla_exe = subprocess.Popen(PATH_TO_CARLA_ROOT+\"/CarlaUE4.exe\")\n",
    "    time.sleep(10)\n",
    "    client = carla.Client('localhost', 2000) \n",
    "    world = client.get_world()\n"
   ]
  },
  {
   "cell_type": "code",
   "execution_count": 2,
   "metadata": {},
   "outputs": [
    {
     "name": "stdout",
     "output_type": "stream",
     "text": [
      "Preparing scenario: ourScenario\n",
      "ScenarioManager: Running scenario ourScenario\n",
      "\n",
      " this is the json list\n",
      "[{'name': 'RunningStopTest', 'actor': 'volkswagen.t2-748', 'optional': False, 'expected': 0, 'actual': 0, 'success': True}, {'name': 'RunningRedLightTest', 'actor': 'volkswagen.t2-748', 'optional': False, 'expected': 0, 'actual': 0, 'success': True}, {'name': 'WrongLaneTest', 'actor': 'volkswagen.t2-748', 'optional': False, 'expected': 0, 'actual': 0, 'success': True}, {'name': 'OnSidewalkTest', 'actor': 'volkswagen.t2-748', 'optional': False, 'expected': 0, 'actual': 0, 'success': True}, {'name': 'CheckKeepLane', 'actor': 'volkswagen.t2-748', 'optional': False, 'expected': 0, 'actual': 0, 'success': True}, {'name': 'CollisionTest', 'actor': 'volkswagen.t2-748', 'optional': False, 'expected': 0, 'actual': 1, 'success': False}, {'name': 'CheckDrivenDistance', 'actor': 'volkswagen.t2-748', 'optional': False, 'expected': 0.1, 'actual': 1.08, 'success': True}, {'name': 'Duration', 'actor': 'all', 'optional': False, 'expected': 100000, 'actual': 30.014956198632717, 'success': True}]\n",
      "\n",
      " ======= Results of Scenario: ourScenario ---- FAILURE =======\n",
      "\n",
      " > Ego vehicles:\n",
      "Actor(id=748, type=vehicle.volkswagen.t2); \n",
      "\n",
      " > Other actors:\n",
      "Actor(id=749, type=vehicle.audi.tt); Actor(id=750, type=vehicle.audi.tt); \n",
      "\n",
      " > Simulation Information\n",
      "╒═════════════════════════════════╤═════════════════════╕\n",
      "│ Start Time                      │ 2023-02-07 18:47:49 │\n",
      "├─────────────────────────────────┼─────────────────────┤\n",
      "│ End Time                        │ 2023-02-07 18:48:19 │\n",
      "├─────────────────────────────────┼─────────────────────┤\n",
      "│ Duration (System Time)          │ 30.1s               │\n",
      "├─────────────────────────────────┼─────────────────────┤\n",
      "│ Duration (Game Time)            │ 30.01s              │\n",
      "├─────────────────────────────────┼─────────────────────┤\n",
      "│ Ratio (System Time / Game Time) │ 0.997s              │\n",
      "╘═════════════════════════════════╧═════════════════════╛\n",
      "\n",
      " > Criteria Information\n",
      "╒════════════════════════╤════════════════════════════╤═════════╤══════════════╤════════════════╕\n",
      "│ Actor                  │ Criterion                  │ Result  │ Actual Value │ Expected Value │\n",
      "├────────────────────────┼────────────────────────────┼─────────┼──────────────┼────────────────┤\n",
      "│ volkswagen.t2 (id=748) │ RunningStopTest (Req.)     │ SUCCESS │ 0            │ 0              │\n",
      "├────────────────────────┼────────────────────────────┼─────────┼──────────────┼────────────────┤\n",
      "│ volkswagen.t2 (id=748) │ RunningRedLightTest (Req.) │ SUCCESS │ 0            │ 0              │\n",
      "├────────────────────────┼────────────────────────────┼─────────┼──────────────┼────────────────┤\n",
      "│ volkswagen.t2 (id=748) │ WrongLaneTest (Req.)       │ SUCCESS │ 0            │ 0              │\n",
      "├────────────────────────┼────────────────────────────┼─────────┼──────────────┼────────────────┤\n",
      "│ volkswagen.t2 (id=748) │ OnSidewalkTest (Req.)      │ SUCCESS │ 0            │ 0              │\n",
      "├────────────────────────┼────────────────────────────┼─────────┼──────────────┼────────────────┤\n",
      "│ volkswagen.t2 (id=748) │ CheckKeepLane (Req.)       │ SUCCESS │ 0            │ 0              │\n",
      "├────────────────────────┼────────────────────────────┼─────────┼──────────────┼────────────────┤\n",
      "│ volkswagen.t2 (id=748) │ CollisionTest (Req.)       │ FAILURE │ 1            │ 0              │\n",
      "├────────────────────────┼────────────────────────────┼─────────┼──────────────┼────────────────┤\n",
      "│ volkswagen.t2 (id=748) │ CheckDrivenDistance (Req.) │ SUCCESS │ 1.08         │ 0.1            │\n",
      "├────────────────────────┼────────────────────────────┼─────────┼──────────────┼────────────────┤\n",
      "│                        │ Timeout (Req.)             │ SUCCESS │ 30.01        │ 100000         │\n",
      "├────────────────────────┼────────────────────────────┼─────────┼──────────────┼────────────────┤\n",
      "│                        │ GLOBAL RESULT              │ FAILURE │              │                │\n",
      "╘════════════════════════╧════════════════════════════╧═════════╧══════════════╧════════════════╛\n",
      " =============================================================\n",
      "\n",
      "Not all scenario tests were successful\n",
      "Destroying ego vehicle 748\n",
      "No more scenarios .... Exiting\n",
      "30.014956198632717\n"
     ]
    }
   ],
   "source": [
    "scenarios = ['C:\\\\CARLA\\\\scenario_runner-master\\\\srunner\\\\examples\\\\OurTestScenario.xosc','C:\\\\CARLA\\\\scenario_runner-master\\\\srunner\\\\examples\\\\OurTestScenario.xosc']\n",
    "openscenario = scenarios[1] \n",
    "\n",
    "args = Namespace(additionalScenario='', agent=None, agentConfig='', configFile='', debug=False, file=False, \n",
    "            host='127.0.0.1', json=True, junit=False, list=False, openscenario=openscenario, \n",
    "            openscenarioparams=None, output=True, outputDir=PATH_TO_XOSC_FILES, port='2000', randomize=False, record='', reloadWorld=True, repetitions=1, route=None, scenario=None, \n",
    "            sync=False, timeout='10.0', trafficManagerPort='8000', trafficManagerSeed='0', waitForEgo=False)\n",
    "\n",
    "scenario_runner.main(args)\n",
    "blackboard = py_trees.blackboard.Blackboard()\n",
    "print(blackboard.get(\"(EVENT)AdversaryAccelerates-END\"))"
   ]
  },
  {
   "cell_type": "code",
   "execution_count": 3,
   "metadata": {},
   "outputs": [
    {
     "name": "stdout",
     "output_type": "stream",
     "text": [
      "Blackboard\n",
      "  (ACT)ReachPositionAct-END                                                                       : 30.014956198632717\n",
      "  (ACT)ReachPositionAct-START                                                                     : 0.010305497795343399\n",
      "  (ACTION)AdversaryAccelerates-END                                                                : 30.014956198632717\n",
      "  (ACTION)AdversaryAccelerates-START                                                              : 0.036361996084451675\n",
      "  (ACTION)AdversaryAcceleratesAgain-END                                                           : 30.014956198632717\n",
      "  (ACTION)AdversaryAcceleratesAgain-START                                                         : 10.664515595883131\n",
      "  (ACTION)AdversaryChangesLane-END                                                                : 30.014956198632717\n",
      "  (ACTION)AdversaryChangesLane-START                                                              : 16.165205996483564\n",
      "  (ACTION)Breaking-END                                                                            : 30.014956198632717\n",
      "  (ACTION)Breaking-START                                                                          : 17.945348598062992\n",
      "  (EVENT)AdversaryAccelerates-END                                                                 : 30.014956198632717\n",
      "  (EVENT)AdversaryAccelerates-START                                                               : 0.036361996084451675\n",
      "  (EVENT)AdversaryAcceleratesAgain-END                                                            : 30.014956198632717\n",
      "  (EVENT)AdversaryAcceleratesAgain-START                                                          : 10.664515595883131\n",
      "  (EVENT)AdversaryBreaks-END                                                                      : 30.014956198632717\n",
      "  (EVENT)AdversaryBreaks-START                                                                    : 5.644476596266031\n",
      "  (EVENT)AdversaryBreaksAgain-END                                                                 : 30.014956198632717\n",
      "  (EVENT)AdversaryBreaksAgain-START                                                               : 17.945348598062992\n",
      "  (EVENT)AdversaryChangesLane-END                                                                 : 30.014956198632717\n",
      "  (EVENT)AdversaryChangesLane-START                                                               : 16.165205996483564\n",
      "  (MANEUVER)RouteManeuver-END                                                                     : 30.014956198632717\n",
      "  (MANEUVER)RouteManeuver-START                                                                   : 0.010305497795343399\n",
      "  (SCENE)ManeuverSequence-END                                                                     : 30.014956198632717\n",
      "  (SCENE)ManeuverSequence-START                                                                   : 0.010305497795343399\n",
      "  >MyStory                                                                                        : True\n",
      "  ActorsWithController                                                                            : {}\n",
      "  Datetime                                                                                        : 2019-06-25 12:00:00\n",
      "  InitRoadFriction                                                                                : True\n",
      "  InitialActorSettings                                                                            : True\n",
      "  InitialEnvironmentSettings                                                                      : True\n",
      "  InitialParameterSettings                                                                        : True\n",
      "  InitialWeather                                                                                  : True\n",
      "  ReachPositionAct>ManeuverSequence                                                               : False\n",
      "  ReachPositionAct>ManeuverSequence>AdversaryAccelerates                                          : True\n",
      "  ReachPositionAct>ManeuverSequence>AdversaryAccelerates>AdversaryAccelerates>0                   : True\n",
      "  ReachPositionAct>ManeuverSequence>AdversaryAccelerates>AdversaryAccelerates>1                   : True\n",
      "  ReachPositionAct>ManeuverSequence>AdversaryAccelerates>None>None>StartCondition                 : True\n",
      "  ReachPositionAct>ManeuverSequence>AdversaryAcceleratesAgain                                     : True\n",
      "  ReachPositionAct>ManeuverSequence>AdversaryAcceleratesAgain>AdversaryAcceleratesAgain>0         : True\n",
      "  ReachPositionAct>ManeuverSequence>AdversaryAcceleratesAgain>AdversaryAcceleratesAgain>1         : True\n",
      "  ReachPositionAct>ManeuverSequence>AdversaryAcceleratesAgain>None>None>AfterAdversaryAccelerates : True\n",
      "  ReachPositionAct>ManeuverSequence>AdversaryBreaks                                               : True\n",
      "  ReachPositionAct>ManeuverSequence>AdversaryBreaks>Breaking>0                                    : True\n",
      "  ReachPositionAct>ManeuverSequence>AdversaryBreaks>Breaking>1                                    : True\n",
      "  ReachPositionAct>ManeuverSequence>AdversaryBreaks>None>None>AfterAdversaryAccelerates           : True\n",
      "  ReachPositionAct>ManeuverSequence>AdversaryBreaksAgain                                          : True\n",
      "  ReachPositionAct>ManeuverSequence>AdversaryBreaksAgain>Breaking>0                               : True\n",
      "  ReachPositionAct>ManeuverSequence>AdversaryBreaksAgain>Breaking>1                               : True\n",
      "  ReachPositionAct>ManeuverSequence>AdversaryBreaksAgain>None>None>AfterAdversaryChangesLane      : True\n",
      "  ReachPositionAct>ManeuverSequence>AdversaryChangesLane                                          : False\n",
      "  ReachPositionAct>ManeuverSequence>AdversaryChangesLane>AdversaryChangesLane>0                   : False\n",
      "  ReachPositionAct>ManeuverSequence>AdversaryChangesLane>AdversaryChangesLane>1                   : True\n",
      "  ReachPositionAct>ManeuverSequence>AdversaryChangesLane>None>None>AfterAdversaryAcceleratesAgain : True\n",
      "  ReachPositionAct>ManeuverSequence>RouteManeuver                                                 : False\n",
      "  ReachPositionAct>None>None>EndCondition                                                         : True\n",
      "  ReachPositionAct>None>None>OverallStartCondition                                                : True\n",
      "\n"
     ]
    },
    {
     "data": {
      "text/plain": [
       "56"
      ]
     },
     "execution_count": 3,
     "metadata": {},
     "output_type": "execute_result"
    }
   ],
   "source": [
    "print(py_trees.blackboard.Blackboard().__str__())\n",
    "len(blackboard.__dict__.keys())"
   ]
  },
  {
   "cell_type": "code",
   "execution_count": 4,
   "metadata": {},
   "outputs": [
    {
     "name": "stdout",
     "output_type": "stream",
     "text": [
      "{}\n"
     ]
    }
   ],
   "source": [
    "print(blackboard.get(\"ActorsWithController\"))"
   ]
  },
  {
   "cell_type": "code",
   "execution_count": 14,
   "metadata": {},
   "outputs": [
    {
     "name": "stdout",
     "output_type": "stream",
     "text": [
      "Blackboard cleared\n",
      "dict_keys([])\n"
     ]
    }
   ],
   "source": [
    "import copy\n",
    "\n",
    "def clear_blackboard():\n",
    "    blackboard = py_trees.blackboard.Blackboard()\n",
    "    blackboard_keys = copy.copy(blackboard.__dict__)\n",
    "    delete = py_trees.blackboard.ClearBlackboardVariable()\n",
    "    for k in blackboard_keys.keys():\n",
    "        delete.variable_name = k\n",
    "        delete.initialise()\n",
    "    print(\"Blackboard cleared\")\n",
    "    print(blackboard.__dict__.keys())\n",
    "\n",
    "clear_blackboard()\n"
   ]
  },
  {
   "cell_type": "code",
   "execution_count": 8,
   "metadata": {},
   "outputs": [],
   "source": [
    "delete = py_trees.blackboard.ClearBlackboardVariable()"
   ]
  },
  {
   "cell_type": "code",
   "execution_count": 9,
   "metadata": {},
   "outputs": [
    {
     "name": "stdout",
     "output_type": "stream",
     "text": [
      "Clear Blackboard Variable\n",
      "ReachPositionAct>ManeuverSequence\n"
     ]
    }
   ],
   "source": [
    "delete.variable_name = 'ReachPositionAct>ManeuverSequence'\n",
    "print(delete.name)\n",
    "print(delete.variable_name)"
   ]
  },
  {
   "cell_type": "code",
   "execution_count": 10,
   "metadata": {},
   "outputs": [],
   "source": [
    "delete.initialise()"
   ]
  },
  {
   "cell_type": "code",
   "execution_count": 14,
   "metadata": {},
   "outputs": [
    {
     "data": {
      "text/plain": [
       "dict_keys(['ReachPositionAct>None>None>OverallStartCondition', '>MyStory', 'InitialParameterSettings', 'InitialWeather', 'InitRoadFriction', 'InitialEnvironmentSettings', 'InitialActorSettings', 'ActorsWithController', '(ACT)ReachPositionAct-START', '(SCENE)ManeuverSequence-START', '(MANEUVER)RouteManeuver-START', 'Datetime', '(EVENT)AdversaryAccelerates-START', '(ACTION)AdversaryAccelerates-START', '(ACTION)AdversaryAccelerates-END', '(EVENT)AdversaryAccelerates-END', '(EVENT)AdversaryBreaks-START', '(ACTION)Breaking-START', '(ACTION)Breaking-END', '(EVENT)AdversaryBreaks-END', '(EVENT)AdversaryAcceleratesAgain-START', '(ACTION)AdversaryAcceleratesAgain-START', '(ACTION)AdversaryAcceleratesAgain-END', '(EVENT)AdversaryAcceleratesAgain-END', '(EVENT)AdversaryChangesLane-START', '(ACTION)AdversaryChangesLane-START', '(ACTION)AdversaryChangesLane-END', '(EVENT)AdversaryBreaksAgain-START', '(EVENT)AdversaryChangesLane-END', '(EVENT)AdversaryBreaksAgain-END', '(MANEUVER)RouteManeuver-END', '(SCENE)ManeuverSequence-END', '(ACT)ReachPositionAct-END'])"
      ]
     },
     "execution_count": 14,
     "metadata": {},
     "output_type": "execute_result"
    }
   ],
   "source": [
    "blackboard.__dict__.keys()"
   ]
  },
  {
   "cell_type": "code",
   "execution_count": 5,
   "metadata": {},
   "outputs": [
    {
     "data": {
      "text/plain": [
       "<py_trees.blackboard.ClearBlackboardVariable at 0x269ea32d4f0>"
      ]
     },
     "execution_count": 5,
     "metadata": {},
     "output_type": "execute_result"
    }
   ],
   "source": [
    "py_trees.blackboard.ClearBlackboardVariable(\"ReachPositionAct>ManeuverSequence\")"
   ]
  },
  {
   "cell_type": "code",
   "execution_count": 7,
   "metadata": {},
   "outputs": [
    {
     "data": {
      "text/plain": [
       "dict_keys(['ReachPositionAct>ManeuverSequence', 'ReachPositionAct>None>None>OverallStartCondition', '>MyStory', 'InitialParameterSettings', 'InitialWeather', 'InitRoadFriction', 'InitialEnvironmentSettings', 'InitialActorSettings', 'ActorsWithController', '(ACT)ReachPositionAct-START', '(SCENE)ManeuverSequence-START', '(MANEUVER)RouteManeuver-START', 'Datetime', '(EVENT)AdversaryAccelerates-START', '(ACTION)AdversaryAccelerates-START', '(ACTION)AdversaryAccelerates-END', '(EVENT)AdversaryBreaks-START', '(ACTION)Breaking-START', '(EVENT)AdversaryAccelerates-END', '(ACTION)Breaking-END', '(EVENT)AdversaryBreaks-END', '(EVENT)AdversaryAcceleratesAgain-START', '(ACTION)AdversaryAcceleratesAgain-START', '(ACTION)AdversaryAcceleratesAgain-END', '(EVENT)AdversaryChangesLane-START', '(ACTION)AdversaryChangesLane-START', '(EVENT)AdversaryAcceleratesAgain-END', '(ACTION)AdversaryChangesLane-END', '(EVENT)AdversaryBreaksAgain-START', '(EVENT)AdversaryChangesLane-END', '(EVENT)AdversaryBreaksAgain-END', '(MANEUVER)RouteManeuver-END', '(SCENE)ManeuverSequence-END', '(ACT)ReachPositionAct-END'])"
      ]
     },
     "execution_count": 7,
     "metadata": {},
     "output_type": "execute_result"
    }
   ],
   "source": [
    "py_trees.blackboard.Blackboard().__dict__.keys()"
   ]
  },
  {
   "cell_type": "code",
   "execution_count": 1,
   "metadata": {},
   "outputs": [
    {
     "data": {
      "text/plain": [
       "{'C:/CARLA/WindowsNoEditor',\n",
       " 'C:/Users/jonas/OneDrive - bwedu/Studium_Master/2_HWS_2022-23/AI Testing Simulator/code/AI_Testing_Simulator/scripts/runnerTool'}"
      ]
     },
     "execution_count": 1,
     "metadata": {},
     "output_type": "execute_result"
    }
   ],
   "source": [
    "PATH_TO_CARLA_ROOT = \"C:/CARLA/WindowsNoEditor\"\n",
    "PATH_TO_SCENARIO_RUNNER_ROOT = \"C:/Users/jonas/OneDrive - bwedu/Studium_Master/2_HWS_2022-23/AI Testing Simulator/code/AI_Testing_Simulator/scripts/runnerTool\"\n",
    "PATH_TO_XOSC_FILES = \"C:/Users/jonas/OneDrive - bwedu/Studium_Master/2_HWS_2022-23/AI Testing Simulator/code/AI_Testing_Simulator/scripts/runnerTool/scenarios\"\n",
    "CARLA_VERSION = \"0.9.13\"\n",
    "\n",
    "dict = {PATH_TO_CARLA_ROOT, PATH_TO_SCENARIO_RUNNER_ROOT}\n",
    "dict"
   ]
  },
  {
   "cell_type": "code",
   "execution_count": 9,
   "metadata": {},
   "outputs": [],
   "source": [
    "import json\n",
    "\n",
    "global_vars = {\"PATH_TO_CARLA_ROOT\" : \"C:/CARLA/WindowsNoEditor\",\n",
    "  \"PATH_TO_SCENARIO_RUNNER_ROOT\" : \"C:/Users/jonas/OneDrive - bwedu/Studium_Master/2_HWS_2022-23/AI Testing Simulator/code/AI_Testing_Simulator/scripts/runnerTool\",\n",
    "  \"PATH_TO_XOSC_FILES\" : \"C:/Users/jonas/OneDrive - bwedu/Studium_Master/2_HWS_2022-23/AI Testing Simulator/code/AI_Testing_Simulator/scripts/runnerTool/scenarios\",\n",
    "  \"CARLA_VERSION\" : \"0.9.13\"}\n",
    "\n",
    "with open(\"config.json\", \"w\") as outfile:\n",
    "    json.dump(global_vars, outfile)"
   ]
  },
  {
   "cell_type": "code",
   "execution_count": 15,
   "metadata": {},
   "outputs": [
    {
     "data": {
      "text/plain": [
       "{'PATH_TO_CARLA_ROOT': 'C:/CARLA/WindowsNoEditor',\n",
       " 'PATH_TO_SCENARIO_RUNNER_ROOT': 'C:/Users/jonas/OneDrive - bwedu/Studium_Master/2_HWS_2022-23/AI Testing Simulator/code/AI_Testing_Simulator/scripts/runnerTool',\n",
       " 'PATH_TO_XOSC_FILES': 'C:/Users/jonas/OneDrive - bwedu/Studium_Master/2_HWS_2022-23/AI Testing Simulator/code/AI_Testing_Simulator/scripts/runnerTool/scenarios',\n",
       " 'CARLA_VERSION': '0.9.13'}"
      ]
     },
     "execution_count": 15,
     "metadata": {},
     "output_type": "execute_result"
    }
   ],
   "source": [
    "with open('config.json', 'r') as openfile:\n",
    " \n",
    "    # Reading from json file\n",
    "    paths = json.load(openfile)\n",
    "\n",
    "paths"
   ]
  },
  {
   "cell_type": "code",
   "execution_count": 23,
   "metadata": {},
   "outputs": [
    {
     "name": "stdout",
     "output_type": "stream",
     "text": [
      "INFO: Global variables set succesfully.\n"
     ]
    }
   ],
   "source": [
    "import os\n",
    "import sys\n",
    "import json\n",
    "\n",
    "def set_global_variables():\n",
    "    try:\n",
    "        with open('config.json', 'r') as openfile:\n",
    "            vars = json.load(openfile)\n",
    "\n",
    "        os.environ[\"CARLA_ROOT\"] = vars[\"PATH_TO_CARLA_ROOT\"]\n",
    "        os.environ[\"SCENARIO_RUNNER_ROOT\"] = vars[\"PATH_TO_SCENARIO_RUNNER_ROOT\"]\n",
    "        sys.path.append(os.getenv(\"CARLA_ROOT\")+\"/PythonAPI/carla/dist/carla-\" + vars[\"CARLA_VERSION\"] + \".egg\")\n",
    "        sys.path.append(os.getenv(\"CARLA_ROOT\")+\"/PythonAPI/carla/agents\")\n",
    "        sys.path.append(os.getenv(\"CARLA_ROOT\")+\"/PythonAPI/carla\")\n",
    "        print(\"INFO: Global variables set succesfully.\")\n",
    "\n",
    "    except Exception as e:\n",
    "        print(\"ERROR: Global variables were not set succesfully. {exception}\".format(exception=e))\n",
    "\n",
    "set_global_variables()"
   ]
  },
  {
   "cell_type": "code",
   "execution_count": 1,
   "metadata": {},
   "outputs": [
    {
     "name": "stdout",
     "output_type": "stream",
     "text": [
      "INFO: Carla not Running, Starting exe..\n"
     ]
    }
   ],
   "source": [
    "import subprocess\n",
    "import carla \n",
    "import time\n",
    "import os\n",
    "import sys\n",
    "import py_trees\n",
    "import copy\n",
    "from argparse import Namespace\n",
    "\n",
    "PATH_TO_CARLA_ROOT = \"C:/CARLA/WindowsNoEditor\"\n",
    "\n",
    "\n",
    "try:\n",
    "    client = carla.Client('localhost', 2000) \n",
    "    world = client.get_world()\n",
    "    print(\"INFO: Carla is already running, starting scenario..\")\n",
    "except Exception:\n",
    "    print(\"INFO: Carla not Running, Starting exe..\")\n",
    "    carla_exe = subprocess.Popen(PATH_TO_CARLA_ROOT+\"/CarlaUE4.exe\")\n",
    "    time.sleep(10)\n",
    "    client = carla.Client('localhost', 2000) \n",
    "    world = client.get_world()"
   ]
  },
  {
   "cell_type": "code",
   "execution_count": 16,
   "metadata": {},
   "outputs": [],
   "source": [
    "#\\\"C:/Users/jonas/OneDrive - bwedu/Studium_Master/2_HWS_2022-23/AI Testing Simulator/code/AI_Testing_Simulator/scripts/runnerTool/runner_bat.bat\\\"&\n",
    "import json\n",
    "\n",
    "def set_configs():\n",
    "    with open('config.json', 'r') as openfile:\n",
    "            conf = json.load(openfile)\n",
    "    return conf\n",
    "\n",
    "def runner(config: dict):\n",
    "    files = [\"C:\\CARLA\\scenario_runner-master\\srunner\\examples\\OurTestScenario.xosc\",\"C:/CARLA/scenario_runner-master/srunner/examples/OurTestScenario.xosc\"]\n",
    "\n",
    "    for file in files:\n",
    "\n",
    "        cmd = \"\"\"cd \\\"{runner_root}\\\"\\\n",
    "                    &set CONDAPATH=\\\"{conda_root}\\\"\\\n",
    "                    &set ENVNAME={envname}\\\n",
    "                    &if %ENVNAME%==base (set ENVPATH=%CONDAPATH%) else (set ENVPATH=%CONDAPATH%/envs/%ENVNAME%)\\\n",
    "                    &call %CONDAPATH%/Scripts/activate.bat %ENVPATH%\\\n",
    "                    &python scenario_runner.py --openscenario \\\"{file}\\\"\n",
    "                \"\"\".format(runner_root= config[\"PATH_TO_SCENARIO_RUNNER_ROOT\"],conda_root=config[\"PATH_TO_CONDA_ROOT\"],envname=config[\"ENVNAME\"],file=file)\n",
    "        result = subprocess.run(cmd, shell=True, capture_output=True)\n",
    "        return result\n",
    "        print(result.stderr)\n",
    "        \n",
    "res = runner(set_configs())\n"
   ]
  },
  {
   "cell_type": "code",
   "execution_count": 19,
   "metadata": {},
   "outputs": [
    {
     "data": {
      "text/plain": [
       "'INFO: Global variables set succesfully.\\r\\nINFO:  Found the required file in cache!  Carla/Maps/TM/Town04.bin \\nPreparing scenario: ourScenario\\r\\nScenarioManager: Running scenario ourScenario\\r\\nNot all scenario tests were successful\\r\\nPlease run with --output for further information\\r\\nDestroying ego vehicle 1431\\r\\nNo more scenarios .... Exiting\\r\\n'"
      ]
     },
     "execution_count": 19,
     "metadata": {},
     "output_type": "execute_result"
    }
   ],
   "source": [
    "res.stdout.decode(\"utf-8\")"
   ]
  },
  {
   "cell_type": "code",
   "execution_count": null,
   "metadata": {},
   "outputs": [],
   "source": [
    "def set_configs():\n",
    "    with open('config.json', 'r') as openfile:\n",
    "            paths = json.load(openfile)\n",
    "\n",
    "    "
   ]
  },
  {
   "cell_type": "code",
   "execution_count": 35,
   "metadata": {},
   "outputs": [
    {
     "data": {
      "text/plain": [
       "'cd \"C:/Users/jonas/OneDrive - bwedu/Studium_Master/2_HWS_2022/AI Testing Simulator/code/AI_Testing_Simulator/scripts/runnerTool\"&set CONDAPATH=\"E:/Programme/Miniconda\"&set ENVNAME=Carla&if %ENVNAME%==base (set ENVPATH=%CONDAPATH%) else (set ENVPATH=%CONDAPATH%/envs/%ENVNAME%)&call %CONDAPATH%/Scripts/activate.bat %ENVPATH%'"
      ]
     },
     "execution_count": 35,
     "metadata": {},
     "output_type": "execute_result"
    }
   ],
   "source": [
    "PATH_TO_SCENARIO_RUNNER_ROOT= \"C:/Users/jonas/OneDrive - bwedu/Studium_Master/2_HWS_2022/AI Testing Simulator/code/AI_Testing_Simulator/scripts/runnerTool\"\n",
    "PATH_TO_CONDA_ROOT= \"E:/Programme/Miniconda\"\n",
    "ENVNAME = \"Carla\"\n",
    "\n",
    "with open(\"set_env_windows.txt\") as f:\n",
    "    contents = f.read()\n",
    "\n",
    "#contents.format(runner_root=\"ADD PATH TO RUNNER ROOT\")\n",
    "con = contents.replace(\"{runner_root}\",PATH_TO_SCENARIO_RUNNER_ROOT).replace(\"{conda_root}\",PATH_TO_CONDA_ROOT).replace(\"{envname}\",ENVNAME)\n",
    "con"
   ]
  },
  {
   "cell_type": "code",
   "execution_count": 5,
   "metadata": {},
   "outputs": [
    {
     "data": {
      "text/plain": [
       "{'PATH_TO_CARLA_ROOT': 'C:/CARLA/WindowsNoEditor',\n",
       " 'PATH_TO_SCENARIO_RUNNER_ROOT': 'C:/Users/jonas/OneDrive - bwedu/Studium_Master/2_HWS_2022/AI Testing Simulator/code/AI_Testing_Simulator/scripts/runnerTool',\n",
       " 'PATH_TO_XOSC_FILES': 'C:/Users/jonas/OneDrive - bwedu/Studium_Master/2_HWS_2022/AI Testing Simulator/code/AI_Testing_Simulator/scripts/runnerTool/scenarios',\n",
       " 'CARLA_VERSION': '0.9.13',\n",
       " 'PATH_TO_CONDA_ROOT': 'E:/Programme/Miniconda',\n",
       " 'ENVNAME': 'Carla'}"
      ]
     },
     "execution_count": 5,
     "metadata": {},
     "output_type": "execute_result"
    }
   ],
   "source": [
    "with open(os.path.join(sys.path[0],'config.json'), 'r') as f:\n",
    "        conf = json.load(f)\n",
    "conf"
   ]
  },
  {
   "cell_type": "code",
   "execution_count": 6,
   "metadata": {},
   "outputs": [],
   "source": [
    "import json\n",
    "import os\n",
    "\n",
    "def load_results():\n",
    "\n",
    "    file_list = os.listdir(\"./results\")\n",
    "\n",
    "    results_dict = {}\n",
    "\n",
    "    for file in file_list:\n",
    "        if \".json\" in file:\n",
    "            scenario_results = \"./results\" + \"/\" + file\n",
    "            with open(scenario_results, 'r') as f:\n",
    "                results_dict[file] = json.load(f)\n",
    "\n",
    "    return results_dict\n",
    "\n",
    "res = load_results()"
   ]
  },
  {
   "cell_type": "code",
   "execution_count": 65,
   "metadata": {},
   "outputs": [
    {
     "name": "stdout",
     "output_type": "stream",
     "text": [
      "----------------- RESULTS OVERVIEW -----------------\n",
      "\t\u001b[1mS\u001b[1mC\u001b[1mN\u001b[1mE\u001b[1mA\u001b[1mR\u001b[1mI\u001b[1mO\u001b[1m \u001b[1mN\u001b[1mA\u001b[1mM\u001b[1mE\u001b[1mS\u001b[1m\t\u001b[1m \u001b[1m|\u001b[1m \u001b[1m\t\u001b[1mS\u001b[1mU\u001b[1mC\u001b[1mC\u001b[1mE\u001b[1mS\u001b[1mS\n",
      "\u001b[0m\t1. ourScenario\t | \t False\n",
      "\u001b[0m\t2. ourScenario\t | \t False\n",
      "\u001b[0m\t3. OurScenario3\t | \t True\n",
      "\u001b[0m\t4. OurScenario3\t | \t True\n",
      "\u001b[0m\t5. OurScenario3\t | \t True\n",
      "----------------------------------------------------\n",
      "To get detailed information enter the relevant Scenario number\n",
      "ERROR: Input NAN or Scenario doesent exist\n"
     ]
    }
   ],
   "source": [
    "def create_results_overview(result_dict: dict):\n",
    "    count = 1\n",
    "\n",
    "    print(\"----------------- RESULTS OVERVIEW -----------------\")\n",
    "    print(\"\\033[1m\".join(\"\\tSCNEARIO NAMES\\t | \\tSUCCESS\"))\n",
    "\n",
    "    for scenario in result_dict.keys():\n",
    "        print(\"\\033[0m\\t\" + str(count) + \". \" + result_dict[scenario][\"scenario\"] + \"\\t | \\t \" + str(result_dict[scenario][\"success\"]))\n",
    "        count+=1\n",
    "    print(\"----------------------------------------------------\")\n",
    "\n",
    "\n",
    "\n",
    "    user_specific_results(result_dict)\n",
    "\n",
    "def user_specific_results(result_dict:dict):\n",
    "\n",
    "    ind = list(result_dict.keys())\n",
    "\n",
    "    print(\"To get detailed information enter the relevant Scenario number\")\n",
    "    usr_input = input(\"Scenario Number: \")\n",
    "    try:\n",
    "        usr_input = int(usr_input)-1\n",
    "        print(json.dumps(result_dict[ind[usr_input]], indent=2))\n",
    "    except Exception:\n",
    "        print(\"ERROR: Input NAN or Scenario doesent exist\")\n",
    "\n",
    "create_results_overview(res)"
   ]
  },
  {
   "cell_type": "code",
   "execution_count": 2,
   "metadata": {},
   "outputs": [],
   "source": [
    "a = [[1,2,\"hello\"],[1,2,\"hello\"],[1,2,\"hello\"],[1,2,\"hello\"],[1,2,\"hello\"]]"
   ]
  },
  {
   "cell_type": "code",
   "execution_count": null,
   "metadata": {},
   "outputs": [],
   "source": [
    "import csv\n",
    "\n",
    "with open(\"out.csv\", \"w\", newline=\"\") as f:\n",
    "    writer = csv.writer(f)\n",
    "    writer.writerows(a)"
   ]
  },
  {
   "cell_type": "code",
   "execution_count": 2,
   "metadata": {},
   "outputs": [
    {
     "name": "stdout",
     "output_type": "stream",
     "text": [
      "string\n"
     ]
    }
   ],
   "source": [
    "a = \"abc\"\n",
    "\n",
    "if type(a) == str:\n",
    "    print(\"string\")"
   ]
  },
  {
   "cell_type": "code",
   "execution_count": 22,
   "metadata": {},
   "outputs": [
    {
     "name": "stdout",
     "output_type": "stream",
     "text": [
      "['\\\\u001b[31m', '\\\\u001b[0m', '\\\\t']\n"
     ]
    }
   ],
   "source": [
    "a = [r'\\u001b[31m', r'\\u001b[0m', r'\\t']\n",
    "a = a.replace([r'\\u001b[31m', r''],\"\")\n",
    "\n",
    "print(a)\n"
   ]
  },
  {
   "cell_type": "code",
   "execution_count": 4,
   "metadata": {},
   "outputs": [
    {
     "name": "stdout",
     "output_type": "stream",
     "text": [
      "<module 'ntpath' from 'e:\\\\Programme\\\\Miniconda\\\\envs\\\\Carla\\\\lib\\\\ntpath.py'>\n",
      "c:\\Users\\jonas\\OneDrive - bwedu\\Studium_Master\\2_HWS_2022\\AI Testing Simulator\\code\\AI_Testing_Simulator\\scripts\\runnerTool\n"
     ]
    },
    {
     "data": {
      "text/plain": [
       "'c:\\\\Users\\\\jonas\\\\OneDrive - bwedu\\\\Studium_Master\\\\2_HWS_2022\\\\AI Testing Simulator\\\\code\\\\AI_Testing_Simulator\\\\scripts'"
      ]
     },
     "execution_count": 4,
     "metadata": {},
     "output_type": "execute_result"
    }
   ],
   "source": [
    "import sys\n",
    "import os\n",
    "print(os.path) \n",
    "print(sys.path[0])\n",
    "\n",
    "os.path.dirname(sys.path[0])"
   ]
  },
  {
   "cell_type": "code",
   "execution_count": 57,
   "metadata": {},
   "outputs": [
    {
     "name": "stdout",
     "output_type": "stream",
     "text": [
      "['backup', 'geradeausFalsch.xosc', 'OurTestScenario.xosc', 'zgeradeausFalsch.xosc']\n"
     ]
    }
   ],
   "source": [
    "import os\n",
    "PATH_TO_XOSC_FILES = \"C:/Users/jonas/OneDrive - bwedu/Studium_Master/2_HWS_2022/AI Testing Simulator/code/AI_Testing_Simulator/scripts/runnerTool/scenarios\"\n",
    "folder_addr = PATH_TO_XOSC_FILES\n",
    "file_list = os.listdir(folder_addr)\n",
    "print(file_list)\n",
    "openscenario = folder_addr + \"/\" + file_list[3]\n"
   ]
  },
  {
   "cell_type": "code",
   "execution_count": 63,
   "metadata": {},
   "outputs": [
    {
     "data": {
      "text/plain": [
       "'external_control'"
      ]
     },
     "execution_count": 63,
     "metadata": {},
     "output_type": "execute_result"
    }
   ],
   "source": [
    "with open(openscenario, 'r') as f:\n",
    "\tfile = f.read() \n",
    "\n",
    "heroindex = file.index(\"HeroAgent\")\n",
    "valueindex = heroindex + file[heroindex:].index(\"value\")\n",
    "quot1 = valueindex + file[valueindex:].index(\"\\\"\")\n",
    "quot2 = quot1 + file[quot1+1:].index(\"\\\"\")\n",
    "\n",
    "controller = file[quot1+1:quot2+1]\n",
    "\n",
    "file = file.replace(controller, \"external_control\")\n",
    "\n",
    "controller\n"
   ]
  },
  {
   "cell_type": "code",
   "execution_count": 62,
   "metadata": {},
   "outputs": [],
   "source": [
    "with open(openscenario, \"w\") as f:\n",
    "\tf.write(file)"
   ]
  },
  {
   "cell_type": "code",
   "execution_count": 67,
   "metadata": {},
   "outputs": [
    {
     "name": "stdout",
     "output_type": "stream",
     "text": [
      "string\n"
     ]
    }
   ],
   "source": [
    "a = \"string\"\n",
    "\n",
    "if a: \n",
    "    print(a)"
   ]
  },
  {
   "cell_type": "code",
   "execution_count": null,
   "metadata": {},
   "outputs": [],
   "source": [
    "tree = ET.parse(openscenario)\n",
    "\n",
    "root = tree.getroot()\n",
    "\n",
    "#for child in root.iter():\n",
    "#   print(child.tag, child.attrib)\n",
    "\n",
    "for child in root.find(\".//Controller\").iter():\n",
    "   print(child.tag, child.attrib)\n",
    "\n",
    "for each in root.findall('.//Controller'):\n",
    "    rating = each.find('.//Property')\n",
    "    print('' if rating is None else rating.text)"
   ]
  }
 ],
 "metadata": {
  "kernelspec": {
   "display_name": "Carla",
   "language": "python",
   "name": "python3"
  },
  "language_info": {
   "codemirror_mode": {
    "name": "ipython",
    "version": 3
   },
   "file_extension": ".py",
   "mimetype": "text/x-python",
   "name": "python",
   "nbconvert_exporter": "python",
   "pygments_lexer": "ipython3",
   "version": "3.8.13"
  },
  "orig_nbformat": 4,
  "vscode": {
   "interpreter": {
    "hash": "b42f8ec84ccdac831d59e68453b5445984905c736eddd0f4960d0d0148519316"
   }
  }
 },
 "nbformat": 4,
 "nbformat_minor": 2
}
