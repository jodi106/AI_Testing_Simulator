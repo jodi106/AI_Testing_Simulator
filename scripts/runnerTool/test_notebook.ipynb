{
 "cells": [
  {
   "cell_type": "code",
   "execution_count": 1,
   "metadata": {},
   "outputs": [],
   "source": [
    "import subprocess\n",
    "import carla \n",
    "import time\n",
    "import os\n",
    "import sys\n",
    "import py_trees\n",
    "\n",
    "os.environ[\"CARLA_ROOT\"] = 'C:/CARLA/WindowsNoEditor'\n",
    "os.environ[\"SCENARIO_RUNNER_ROOT\"] = \"C:/Users/jonas/OneDrive - bwedu/Studium_Master/2_HWS_2022-23/AI Testing Simulator/code/AI_Testing_Simulator/scripts/runnerTool\"\n",
    "sys.path.append(os.getenv(\"CARLA_ROOT\")+\"/PythonAPI/carla/dist/carla-0.9.13.egg\")\n",
    "sys.path.append(os.getenv(\"CARLA_ROOT\")+\"/PythonAPI/carla/agents\")\n",
    "sys.path.append(os.getenv(\"CARLA_ROOT\")+\"/PythonAPI/carla\")\n",
    "\n",
    "import scenario_runner\n",
    "from argparse import Namespace\n",
    "\n",
    "cmd = \"C:\\\\CARLA\\\\WindowsNoEditor\\\\CarlaUE4.exe\"\n",
    "\n",
    "process = subprocess.Popen(cmd)\n",
    "time.sleep(10)\n",
    "\n",
    "client = carla.Client('localhost', 2000) \n",
    "world = client.load_world('Town04')\n"
   ]
  },
  {
   "cell_type": "code",
   "execution_count": 9,
   "metadata": {},
   "outputs": [
    {
     "name": "stdout",
     "output_type": "stream",
     "text": [
      "Preparing scenario: ourScenario\n",
      "Warning: ReachPositionAct>ManeuverSequence is already used before. Check your XOSC for duplicated names\n",
      "Warning: ReachPositionAct>None>None>OverallStartCondition is already used before. Check your XOSC for duplicated names\n",
      "Warning: >MyStory is already used before. Check your XOSC for duplicated names\n",
      "Warning: InitialParameterSettings is already used before. Check your XOSC for duplicated names\n",
      "Warning: InitialWeather is already used before. Check your XOSC for duplicated names\n",
      "Warning: InitRoadFriction is already used before. Check your XOSC for duplicated names\n",
      "Warning: InitialEnvironmentSettings is already used before. Check your XOSC for duplicated names\n",
      "Warning: InitialActorSettings is already used before. Check your XOSC for duplicated names\n",
      "ScenarioManager: Running scenario ourScenario\n",
      "All scenario tests were passed successfully!\n",
      "Destroying ego vehicle 391\n",
      "No more scenarios .... Exiting\n"
     ]
    },
    {
     "data": {
      "text/plain": [
       "False"
      ]
     },
     "execution_count": 9,
     "metadata": {},
     "output_type": "execute_result"
    }
   ],
   "source": [
    "scenarios = ['C:\\\\CARLA\\\\scenario_runner-master\\\\srunner\\\\examples\\\\OurStartStopLC.xosc','C:\\\\CARLA\\\\scenario_runner-master\\\\srunner\\\\examples\\\\OurStartStopLC.xosc']\n",
    "openscenario = scenarios[1] \n",
    "args = Namespace(additionalScenario='', agent=None, agentConfig='', configFile='', debug=False, file=False, \n",
    "            host='127.0.0.1', json=False, junit=False, list=False, openscenario=openscenario, \n",
    "            openscenarioparams=None, output=False, outputDir='', port='2000', randomize=False, record='', reloadWorld=True, repetitions=1, route=None, scenario=None, \n",
    "            sync=False, timeout='10.0', trafficManagerPort='8000', trafficManagerSeed='0', waitForEgo=False)\n",
    "\n",
    "scenario_runner.main(args)"
   ]
  },
  {
   "cell_type": "code",
   "execution_count": 3,
   "metadata": {},
   "outputs": [
    {
     "data": {
      "text/plain": [
       "dict_keys(['ReachPositionAct>ManeuverSequence', 'ReachPositionAct>None>None>OverallStartCondition', '>MyStory', 'InitialParameterSettings', 'InitialWeather', 'InitRoadFriction', 'InitialEnvironmentSettings', 'InitialActorSettings', 'ActorsWithController', '(ACT)ReachPositionAct-START', '(SCENE)ManeuverSequence-START', '(MANEUVER)RouteManeuver-START', 'Datetime', '(EVENT)AdversaryAccelerates-START', '(ACTION)AdversaryAccelerates-START', '(ACTION)AdversaryAccelerates-END', '(EVENT)AdversaryBreaks-START', '(ACTION)Breaking-START', '(EVENT)AdversaryAccelerates-END', '(ACTION)Breaking-END', '(EVENT)AdversaryBreaks-END', '(EVENT)AdversaryAcceleratesAgain-START', '(ACTION)AdversaryAcceleratesAgain-START', '(ACTION)AdversaryAcceleratesAgain-END', '(EVENT)AdversaryChangesLane-START', '(ACTION)AdversaryChangesLane-START', '(EVENT)AdversaryAcceleratesAgain-END', '(ACTION)AdversaryChangesLane-END', '(EVENT)AdversaryBreaksAgain-START', '(EVENT)AdversaryChangesLane-END', '(EVENT)AdversaryBreaksAgain-END', '(MANEUVER)RouteManeuver-END', '(SCENE)ManeuverSequence-END', '(ACT)ReachPositionAct-END'])"
      ]
     },
     "execution_count": 3,
     "metadata": {},
     "output_type": "execute_result"
    }
   ],
   "source": [
    "#print(py_trees.blackboard.Blackboard().__str__())\n",
    "py_trees.blackboard.Blackboard().__dict__.keys()"
   ]
  },
  {
   "cell_type": "code",
   "execution_count": 8,
   "metadata": {},
   "outputs": [
    {
     "data": {
      "text/plain": [
       "{'ReachPositionAct>ManeuverSequence': True,\n",
       " 'ReachPositionAct>None>None>OverallStartCondition': True,\n",
       " '>MyStory': True,\n",
       " 'InitialParameterSettings': True,\n",
       " 'InitialWeather': True,\n",
       " 'InitRoadFriction': True,\n",
       " 'InitialEnvironmentSettings': True,\n",
       " 'InitialActorSettings': True,\n",
       " 'ActorsWithController': {},\n",
       " '(ACT)ReachPositionAct-START': 0.008782200515270233,\n",
       " '(SCENE)ManeuverSequence-START': 0.008782200515270233,\n",
       " '(MANEUVER)RouteManeuver-START': 0.008782200515270233,\n",
       " 'Datetime': datetime.datetime(2019, 6, 25, 12, 0),\n",
       " '(EVENT)AdversaryAccelerates-START': 0.10681501775979996,\n",
       " '(ACTION)AdversaryAccelerates-START': 0.10681501775979996,\n",
       " '(ACTION)AdversaryAccelerates-END': 5.716540716588497,\n",
       " '(EVENT)AdversaryBreaks-START': 5.700045716017485,\n",
       " '(ACTION)Breaking-START': 17.57544521614909,\n",
       " '(EVENT)AdversaryAccelerates-END': 5.716540716588497,\n",
       " '(ACTION)Breaking-END': 22.576465517282486,\n",
       " '(EVENT)AdversaryBreaks-END': 10.709708116948605,\n",
       " '(EVENT)AdversaryAcceleratesAgain-START': 10.702317517250776,\n",
       " '(ACTION)AdversaryAcceleratesAgain-START': 10.702317517250776,\n",
       " '(ACTION)AdversaryAcceleratesAgain-END': 16.175282415002584,\n",
       " '(EVENT)AdversaryChangesLane-START': 16.15952491760254,\n",
       " '(ACTION)AdversaryChangesLane-START': 16.15952491760254,\n",
       " '(EVENT)AdversaryAcceleratesAgain-END': 16.175282415002584,\n",
       " '(ACTION)AdversaryChangesLane-END': 17.956862416118383,\n",
       " '(EVENT)AdversaryBreaksAgain-START': 17.57544521614909,\n",
       " '(EVENT)AdversaryChangesLane-END': 17.956862416118383,\n",
       " '(EVENT)AdversaryBreaksAgain-END': 22.576465517282486,\n",
       " '(MANEUVER)RouteManeuver-END': 22.576465517282486,\n",
       " '(SCENE)ManeuverSequence-END': 22.576465517282486,\n",
       " '(ACT)ReachPositionAct-END': 22.576465517282486}"
      ]
     },
     "execution_count": 8,
     "metadata": {},
     "output_type": "execute_result"
    }
   ],
   "source": [
    "# first scenario\n",
    "py_trees.blackboard.Blackboard().__dict__"
   ]
  },
  {
   "cell_type": "code",
   "execution_count": 10,
   "metadata": {},
   "outputs": [
    {
     "data": {
      "text/plain": [
       "{'ReachPositionAct>ManeuverSequence': True,\n",
       " 'ReachPositionAct>None>None>OverallStartCondition': True,\n",
       " '>MyStory': True,\n",
       " 'InitialParameterSettings': True,\n",
       " 'InitialWeather': True,\n",
       " 'InitRoadFriction': True,\n",
       " 'InitialEnvironmentSettings': True,\n",
       " 'InitialActorSettings': True,\n",
       " 'ActorsWithController': {},\n",
       " '(ACT)ReachPositionAct-START': 0.01011350005865097,\n",
       " '(SCENE)ManeuverSequence-START': 0.01011350005865097,\n",
       " '(MANEUVER)RouteManeuver-START': 0.01011350005865097,\n",
       " 'Datetime': datetime.datetime(2019, 6, 25, 12, 0),\n",
       " '(EVENT)AdversaryAccelerates-START': 0.05591150373220444,\n",
       " '(ACTION)AdversaryAccelerates-START': 0.05591150373220444,\n",
       " '(ACTION)AdversaryAccelerates-END': 5.681374505162239,\n",
       " '(EVENT)AdversaryBreaks-START': 0.01011350005865097,\n",
       " '(ACTION)Breaking-START': 0.01011350005865097,\n",
       " '(EVENT)AdversaryAccelerates-END': 5.681374505162239,\n",
       " '(ACTION)Breaking-END': 0.07513750344514847,\n",
       " '(EVENT)AdversaryBreaks-END': 0.07513750344514847,\n",
       " '(EVENT)AdversaryAcceleratesAgain-START': 0.01011350005865097,\n",
       " '(ACTION)AdversaryAcceleratesAgain-START': 0.01011350005865097,\n",
       " '(ACTION)AdversaryAcceleratesAgain-END': 0.07513750344514847,\n",
       " '(EVENT)AdversaryChangesLane-START': 0.01011350005865097,\n",
       " '(ACTION)AdversaryChangesLane-START': 0.01011350005865097,\n",
       " '(EVENT)AdversaryAcceleratesAgain-END': 0.07513750344514847,\n",
       " '(ACTION)AdversaryChangesLane-END': 4.39575470238924,\n",
       " '(EVENT)AdversaryBreaksAgain-START': 0.01011350005865097,\n",
       " '(EVENT)AdversaryChangesLane-END': 4.39575470238924,\n",
       " '(EVENT)AdversaryBreaksAgain-END': 0.07513750344514847,\n",
       " '(MANEUVER)RouteManeuver-END': 5.681374505162239,\n",
       " '(SCENE)ManeuverSequence-END': 5.681374505162239,\n",
       " '(ACT)ReachPositionAct-END': 5.681374505162239}"
      ]
     },
     "execution_count": 10,
     "metadata": {},
     "output_type": "execute_result"
    }
   ],
   "source": [
    "# second scenario\n",
    "py_trees.blackboard.Blackboard().__dict__"
   ]
  },
  {
   "cell_type": "code",
   "execution_count": 5,
   "metadata": {},
   "outputs": [
    {
     "data": {
      "text/plain": [
       "<py_trees.blackboard.ClearBlackboardVariable at 0x269ea32d4f0>"
      ]
     },
     "execution_count": 5,
     "metadata": {},
     "output_type": "execute_result"
    }
   ],
   "source": [
    "py_trees.blackboard.ClearBlackboardVariable(\"ReachPositionAct>ManeuverSequence\")"
   ]
  },
  {
   "cell_type": "code",
   "execution_count": 7,
   "metadata": {},
   "outputs": [
    {
     "data": {
      "text/plain": [
       "dict_keys(['ReachPositionAct>ManeuverSequence', 'ReachPositionAct>None>None>OverallStartCondition', '>MyStory', 'InitialParameterSettings', 'InitialWeather', 'InitRoadFriction', 'InitialEnvironmentSettings', 'InitialActorSettings', 'ActorsWithController', '(ACT)ReachPositionAct-START', '(SCENE)ManeuverSequence-START', '(MANEUVER)RouteManeuver-START', 'Datetime', '(EVENT)AdversaryAccelerates-START', '(ACTION)AdversaryAccelerates-START', '(ACTION)AdversaryAccelerates-END', '(EVENT)AdversaryBreaks-START', '(ACTION)Breaking-START', '(EVENT)AdversaryAccelerates-END', '(ACTION)Breaking-END', '(EVENT)AdversaryBreaks-END', '(EVENT)AdversaryAcceleratesAgain-START', '(ACTION)AdversaryAcceleratesAgain-START', '(ACTION)AdversaryAcceleratesAgain-END', '(EVENT)AdversaryChangesLane-START', '(ACTION)AdversaryChangesLane-START', '(EVENT)AdversaryAcceleratesAgain-END', '(ACTION)AdversaryChangesLane-END', '(EVENT)AdversaryBreaksAgain-START', '(EVENT)AdversaryChangesLane-END', '(EVENT)AdversaryBreaksAgain-END', '(MANEUVER)RouteManeuver-END', '(SCENE)ManeuverSequence-END', '(ACT)ReachPositionAct-END'])"
      ]
     },
     "execution_count": 7,
     "metadata": {},
     "output_type": "execute_result"
    }
   ],
   "source": [
    "py_trees.blackboard.Blackboard().__dict__.keys()"
   ]
  }
 ],
 "metadata": {
  "kernelspec": {
   "display_name": "Carla",
   "language": "python",
   "name": "python3"
  },
  "language_info": {
   "codemirror_mode": {
    "name": "ipython",
    "version": 3
   },
   "file_extension": ".py",
   "mimetype": "text/x-python",
   "name": "python",
   "nbconvert_exporter": "python",
   "pygments_lexer": "ipython3",
   "version": "3.8.13"
  },
  "orig_nbformat": 4,
  "vscode": {
   "interpreter": {
    "hash": "06ec2087d94669cfdfdb6dc1d16a130ea5650789fc8ba0ae91ecabc334e87b16"
   }
  }
 },
 "nbformat": 4,
 "nbformat_minor": 2
}
