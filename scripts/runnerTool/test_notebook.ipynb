{
 "cells": [
  {
   "cell_type": "code",
   "execution_count": 1,
   "metadata": {},
   "outputs": [],
   "source": [
    "import subprocess\n",
    "import carla \n",
    "import time\n",
    "import os\n",
    "import sys\n",
    "import py_trees\n",
    "\n",
    "os.environ[\"CARLA_ROOT\"] = 'C:/CARLA/WindowsNoEditor'\n",
    "os.environ[\"SCENARIO_RUNNER_ROOT\"] = \"C:/Users/jonas/OneDrive - bwedu/Studium_Master/2_HWS_2022-23/AI Testing Simulator/code/AI_Testing_Simulator/scripts/runnerTool\"\n",
    "sys.path.append(os.getenv(\"CARLA_ROOT\")+\"/PythonAPI/carla/dist/carla-0.9.13.egg\")\n",
    "sys.path.append(os.getenv(\"CARLA_ROOT\")+\"/PythonAPI/carla/agents\")\n",
    "sys.path.append(os.getenv(\"CARLA_ROOT\")+\"/PythonAPI/carla\")\n",
    "\n",
    "import scenario_runner\n",
    "from argparse import Namespace\n",
    "\n",
    "cmd = \"C:\\\\CARLA\\\\WindowsNoEditor\\\\CarlaUE4.exe\"\n",
    "\n",
    "process = subprocess.Popen(cmd)\n",
    "time.sleep(10)\n",
    "\n",
    "client = carla.Client('localhost', 2000) \n",
    "world = client.load_world('Town04')\n"
   ]
  },
  {
   "cell_type": "code",
   "execution_count": 2,
   "metadata": {},
   "outputs": [
    {
     "name": "stdout",
     "output_type": "stream",
     "text": [
      "Preparing scenario: ourScenario\n",
      "ScenarioManager: Running scenario ourScenario\n",
      "All scenario tests were passed successfully!\n",
      "Destroying ego vehicle 266\n",
      "No more scenarios .... Exiting\n"
     ]
    },
    {
     "data": {
      "text/plain": [
       "False"
      ]
     },
     "execution_count": 2,
     "metadata": {},
     "output_type": "execute_result"
    }
   ],
   "source": [
    "scenarios = ['C:\\\\CARLA\\\\scenario_runner-master\\\\srunner\\\\examples\\\\OurStartStopLC.xosc','C:\\\\CARLA\\\\scenario_runner-master\\\\srunner\\\\examples\\\\OurStartStopLC.xosc']\n",
    "openscenario = scenarios[0] \n",
    "args = Namespace(additionalScenario='', agent=None, agentConfig='', configFile='', debug=False, file=False, \n",
    "            host='127.0.0.1', json=False, junit=False, list=False, openscenario=openscenario, \n",
    "            openscenarioparams=None, output=False, outputDir='', port='2000', randomize=False, record='', reloadWorld=True, repetitions=1, route=None, scenario=None, \n",
    "            sync=False, timeout='10.0', trafficManagerPort='8000', trafficManagerSeed='0', waitForEgo=False)\n",
    "\n",
    "scenario_runner.main(args)"
   ]
  },
  {
   "cell_type": "code",
   "execution_count": 4,
   "metadata": {},
   "outputs": [
    {
     "data": {
      "text/plain": [
       "dict_keys(['ReachPositionAct>ManeuverSequence', 'ReachPositionAct>None>None>OverallStartCondition', '>MyStory', 'InitialParameterSettings', 'InitialWeather', 'InitRoadFriction', 'InitialEnvironmentSettings', 'InitialActorSettings', 'ActorsWithController', '(ACT)ReachPositionAct-START', '(SCENE)ManeuverSequence-START', '(MANEUVER)RouteManeuver-START', 'Datetime', '(EVENT)AdversaryAccelerates-START', '(ACTION)AdversaryAccelerates-START', '(ACTION)AdversaryAccelerates-END', '(EVENT)AdversaryBreaks-START', '(ACTION)Breaking-START', '(EVENT)AdversaryAccelerates-END', '(ACTION)Breaking-END', '(EVENT)AdversaryBreaks-END', '(EVENT)AdversaryAcceleratesAgain-START', '(ACTION)AdversaryAcceleratesAgain-START', '(ACTION)AdversaryAcceleratesAgain-END', '(EVENT)AdversaryChangesLane-START', '(ACTION)AdversaryChangesLane-START', '(EVENT)AdversaryAcceleratesAgain-END', '(ACTION)AdversaryChangesLane-END', '(EVENT)AdversaryBreaksAgain-START', '(EVENT)AdversaryChangesLane-END', '(EVENT)AdversaryBreaksAgain-END', '(MANEUVER)RouteManeuver-END', '(SCENE)ManeuverSequence-END', '(ACT)ReachPositionAct-END'])"
      ]
     },
     "execution_count": 4,
     "metadata": {},
     "output_type": "execute_result"
    }
   ],
   "source": [
    "#print(py_trees.blackboard.Blackboard().__str__())\n",
    "py_trees.blackboard.Blackboard().__dict__.keys()"
   ]
  },
  {
   "cell_type": "code",
   "execution_count": 5,
   "metadata": {},
   "outputs": [
    {
     "data": {
      "text/plain": [
       "<py_trees.blackboard.ClearBlackboardVariable at 0x269ea32d4f0>"
      ]
     },
     "execution_count": 5,
     "metadata": {},
     "output_type": "execute_result"
    }
   ],
   "source": [
    "py_trees.blackboard.ClearBlackboardVariable(\"ReachPositionAct>ManeuverSequence\")"
   ]
  },
  {
   "cell_type": "code",
   "execution_count": 6,
   "metadata": {},
   "outputs": [
    {
     "data": {
      "text/plain": [
       "dict_keys(['ReachPositionAct>ManeuverSequence', 'ReachPositionAct>None>None>OverallStartCondition', '>MyStory', 'InitialParameterSettings', 'InitialWeather', 'InitRoadFriction', 'InitialEnvironmentSettings', 'InitialActorSettings', 'ActorsWithController', '(ACT)ReachPositionAct-START', '(SCENE)ManeuverSequence-START', '(MANEUVER)RouteManeuver-START', 'Datetime', '(EVENT)AdversaryAccelerates-START', '(ACTION)AdversaryAccelerates-START', '(ACTION)AdversaryAccelerates-END', '(EVENT)AdversaryBreaks-START', '(ACTION)Breaking-START', '(EVENT)AdversaryAccelerates-END', '(ACTION)Breaking-END', '(EVENT)AdversaryBreaks-END', '(EVENT)AdversaryAcceleratesAgain-START', '(ACTION)AdversaryAcceleratesAgain-START', '(ACTION)AdversaryAcceleratesAgain-END', '(EVENT)AdversaryChangesLane-START', '(ACTION)AdversaryChangesLane-START', '(EVENT)AdversaryAcceleratesAgain-END', '(ACTION)AdversaryChangesLane-END', '(EVENT)AdversaryBreaksAgain-START', '(EVENT)AdversaryChangesLane-END', '(EVENT)AdversaryBreaksAgain-END', '(MANEUVER)RouteManeuver-END', '(SCENE)ManeuverSequence-END', '(ACT)ReachPositionAct-END'])"
      ]
     },
     "execution_count": 6,
     "metadata": {},
     "output_type": "execute_result"
    }
   ],
   "source": [
    "py_trees.blackboard.Blackboard().__dict__.keys()"
   ]
  }
 ],
 "metadata": {
  "kernelspec": {
   "display_name": "Carla",
   "language": "python",
   "name": "python3"
  },
  "language_info": {
   "codemirror_mode": {
    "name": "ipython",
    "version": 3
   },
   "file_extension": ".py",
   "mimetype": "text/x-python",
   "name": "python",
   "nbconvert_exporter": "python",
   "pygments_lexer": "ipython3",
   "version": "3.8.13"
  },
  "orig_nbformat": 4,
  "vscode": {
   "interpreter": {
    "hash": "06ec2087d94669cfdfdb6dc1d16a130ea5650789fc8ba0ae91ecabc334e87b16"
   }
  }
 },
 "nbformat": 4,
 "nbformat_minor": 2
}
